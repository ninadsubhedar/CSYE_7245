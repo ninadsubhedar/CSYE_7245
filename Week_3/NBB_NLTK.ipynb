{
 "cells": [
  {
   "cell_type": "markdown",
   "metadata": {},
   "source": [
    "# Natural Language Processing with Python \n",
    "\n",
    "**NLTK - Natural Language Toolkit**\n",
    "\n",
    "There is a free book _Natural Language Processing with Python\n",
    "--- Analyzing Text with the Natural Language Toolkit_\n",
    "\n",
    "by Steven Bird, Ewan Klein, and Edward Loper\n",
    "\n",
    "availible at [http://www.nltk.org/book](http://www.nltk.org/book) with associated code at [https://github.com/nltk](https://github.com/nltk).\n",
    "\n"
   ]
  },
  {
   "cell_type": "code",
   "execution_count": 2,
   "metadata": {
    "collapsed": true
   },
   "outputs": [],
   "source": [
    "%matplotlib inline\n",
    "import random\n",
    "import numpy as np\n",
    "import matplotlib.pyplot as plt\n",
    "import pandas as pd\n",
    "import seaborn as sns\n",
    "import nltk"
   ]
  },
  {
   "cell_type": "markdown",
   "metadata": {},
   "source": [
    "Open up the python shell and type the following commands.\n",
    "\n",
    "> import nltk     \n",
    "> nltk.download()    \n",
    "\n",
    "This will open up a window so NLTK download the various corpora and models to a specified location. Download it all as we will be exploring as much of NLTK as we can. Also take note of the download directory.  I usually use /Users/bear/nltk_data"
   ]
  },
  {
   "cell_type": "code",
   "execution_count": 3,
   "metadata": {
    "collapsed": true
   },
   "outputs": [],
   "source": [
    "import spacy\n",
    "import gensim"
   ]
  },
  {
   "cell_type": "markdown",
   "metadata": {},
   "source": [
    "To install these packages with conda run:\n",
    "\n",
    "conda install -c spacy spacy=0.101.0\n",
    "\n",
    "conda install -c anaconda gensim=1.0.1"
   ]
  },
  {
   "cell_type": "code",
   "execution_count": 4,
   "metadata": {},
   "outputs": [
    {
     "data": {
      "text/plain": [
       "['You have brains in your head.',\n",
       " 'You have feet in your shoes.',\n",
       " 'You can steer yourself any direction you choose.']"
      ]
     },
     "execution_count": 4,
     "metadata": {},
     "output_type": "execute_result"
    }
   ],
   "source": [
    "seuss = [\"You have brains in your head.\",\n",
    "           \"You have feet in your shoes.\", \n",
    "           \"You can steer yourself any direction you choose.\",            \n",
    "           \"You're on your own.\", \n",
    "           \"And you know what you know.\", \n",
    "           \"And YOU are the one who'll decide where to go...\",    \n",
    "           \"Today you are you, that is truer than true. There is no one alive who is youer than you. - Dr. Seuss\",\n",
    "           \"Don't cry because it's over. Smile because it happened. - Dr. Seuss\",       \n",
    "           \"Unless someone like you cares a whole awful lot, nothing is going to get better. It's not. - Dr. Seuss\",\n",
    "           \"A person's a person, no matter how small. - Dr. Seuss\",       \n",
    "           \"Today is your day! Your mountain is waiting so get on your way! - Dr. Seuss\", \n",
    "           \"You're never too old, too wacky, too wild, to pick up a book and read to a child. - Dr. Seuss\",\n",
    "           \"The more that you read, the more things you will know. The more that you learn, the more places you'll go. - Dr. Seuss\",\n",
    "           \"Oh the things you can find if you don't stay behind! - Dr. Seuss\",\n",
    "           \"And turtles, of course. all the turtles are FREE. As turtles and, maybe, ALL creatures should be. - Dr. Seuss\",\n",
    "           \"With your head full of brains and your shoes full of feet, you're too smart to go down any not-so-good street. - Dr. Seuss\",\n",
    "           \"You're on your own. And you know what you know. And you're the one who'll decide where to go. - Dr. Seuss\", \n",
    "           \"Sometimes the questions are complicated and the answers are simple. - Dr. Seuss\",\n",
    "           \"You do not like them. So you say. Try them! Try them! And you may! - Dr. Seuss\",\n",
    "           \"You have brains in your head, you have feet in your shoes. You can steer yourself any direction you choose. - Dr. Seuss\",\n",
    "           \"If things start happening, don't worry. Don't stew. Just go right along. You'll start happening too. - Dr. Seuss\", \n",
    "           \"So be sure when you step. Step with care and great tact and remember that life's a Great Balancing Act. - Dr. Seuss\",   \n",
    "           \"If you never did you should. These things are fun, and fun is good. - Dr. Seuss\",\n",
    "           \"I have heard there are troubles of more than one kind. Some come from ahead and some come from behind. But I've bought a big bat. I'm all ready you see. Now my troubles are going to have troubles with me! - Dr. Seuss\",\n",
    "           \"Will you succeed? Yes! You will, indeed! (98 and 3/4 percent guaranteed. - Dr. Seuss\",   \n",
    "           \"You're off to Great Places!\",\n",
    "           \"Today is your day!\",\n",
    "           \"Your mountain is waiting,\",\n",
    "           \"So... get on your way!\",\n",
    "           \"-- Dr. Seuss, Oh, The Places You'll Go!\",\n",
    "           \"So be sure when you step, Step with care and great tact. And remember that life's A Great Balancing Act. And will you succeed? Yes! You will, indeed! ( and ? percent guaranteed) Kid, you'll move mountains.\",\n",
    "           \"-- Dr. Seuss, Oh, The Places You'll Go!\",\n",
    "           \"You'll get mixed up, of course, as you already know. You'll get mixed up with many strange birds as you go. So be sure when you step. Step with care and great tact and remember that Life's a Great Balancing Act. Just never forget to be dexterous and deft. And never mix up your right foot with your left.\",\n",
    "           \"-- Dr. Seuss, Oh, The Places You'll Go!\",\n",
    "           \"Oh the places you'll go! There is fun to be done! There are points to be scored. There are games to be won. And the magical things you can do with that ball will make you the winning-est winner of all.\",\n",
    "           \"-- Dr. Seuss, Oh, The Places You'll Go!\",\n",
    "           \"Things may happen and often do to people as brainy and footsy as you\",\n",
    "           \"-- Dr. Seuss, Oh, The Places You'll Go!\",\n",
    "           \"Congratulations!\",\n",
    "           \"Today is your day.\",\n",
    "           \"You're off to Great Places!\",\n",
    "           \"You're off and away!\",\n",
    "           \"-- Dr. Seuss, Oh, The Places You'll Go!\",\n",
    "           \"It's opener, out there, in the wide, open air.\",\n",
    "           \"-- Dr. Seuss, Oh, The Places You'll Go!\",\n",
    "           \"You have brains in your head.\",\n",
    "           \"You have feet in your shoes.\",\n",
    "           \"You can steer yourself any direction you choose.\",\n",
    "           \"-- Dr. Seuss, Oh, The Places You'll Go!\",\n",
    "           \"And when you're alone there's a very good chance\",\n",
    "           \"you'll meet things that scare you right out of your pants\",\n",
    "           \"There are some, down the road between hither and yon,\",\n",
    "           \"that can scare you so much you won't want to go on.\",\n",
    "           \"-- Dr. Seuss, Oh, The Places You'll Go!\",\n",
    "           \"You will come to a place where the streets are not marked.\",\n",
    "           \"Some windows are lighted. but mostly they're darked.\",\n",
    "           \"But mostly they're darked.\",\n",
    "           \"A place you could sprain both your elbow and chin!\",\n",
    "           \"Do you dare to stay out? Do you dare to go in?\",\n",
    "           \"How much can you lose? How much can you win?\",\n",
    "           \"-- Dr. Seuss, Oh, The Places You'll Go!\",\n",
    "           \"Fame you'll be famous, as famous as can be, with everyone watching you win on TV, Except when they don't because sometimes they won't..\",\n",
    "           \"-- Dr. Seuss, Oh, The Places You'll Go!\",\n",
    "           \"When you're in a Slump,\",\n",
    "           \"you're not in for much fun.\",\n",
    "           \"Un-slumping yourself\",\n",
    "           \"is not easily done.\",\n",
    "           \"-- Dr. Seuss, Oh, The Places You'll Go!\",\n",
    "           \"You won't lag behind, because you'll have the speed.\",\n",
    "           \"You'll pass the whole gang and you'll soon take the lead.\",\n",
    "           \"Wherever you fly, you'll be best of the best.\",\n",
    "           \"Wherever you go, you will top all the rest.\",\n",
    "           \"Except when you don't.\",\n",
    "           \"Because, sometimes, you won't.\",\n",
    "           \"-- Dr. Seuss, Oh, The Places You'll Go!\",\n",
    "           \"Onward up many a frightening creek, though your arms may get sore and your sneakers may leak. Oh! The places you'll go!\",\n",
    "           \"-- Dr. Seuss, Oh, The Places You'll Go!\",\n",
    "           \"So...be your name Buxbaum or Bixby or Bray\",\n",
    "           \"or Mordecai Ali Van Allen O'Shea,\",\n",
    "           \"you're off to Great Places!\",\n",
    "           \"Today is your day!\",\n",
    "           \"Your mountain is waiting.\",\n",
    "           \"So...get on your way!\",\n",
    "           \"-- Dr. Seuss, Oh, The Places You'll Go!\",\n",
    "           \"And will you succeed?\",\n",
    "           \"Yes! You will, indeed!\",\n",
    "           \"( (98 and 3/4 percent guaranteed.)\",\n",
    "           \"KID, YOU'LL MOVE MOUNTAINS!\",\n",
    "           \"Out there things can happen, and frequently do,\",\n",
    "           \"To people as brainy and footsy as you.\",\n",
    "           \"And when things start to happen, don't worry, don't stew.\",\n",
    "           \"Just go right along, you'll start happening too!\",\n",
    "           \"-- Dr. Seuss, Oh, The Places You'll Go!\",\n",
    "           \"You can get so confused\",\n",
    "           \"that you'll start in to race\",\n",
    "           \"down long wiggled roads at a break-necking pace\",\n",
    "           \"and grind on for miles across weirdish wild space,\",\n",
    "           \"headed, I fear, toward a most useless place.\",\n",
    "           \"The Waiting Place...\",\n",
    "           \"-- Dr. Seuss, Oh, The Places You'll Go!\",\n",
    "           \"Kid, you'll move mountains.\",\n",
    "           \"-- Dr. Seuss, Oh, The Places You'll Go!\",\n",
    "           \"Oh, the places you'll go! There is fun to be done!\",\n",
    "           \"There are points to be scored. There are games to be won.\",\n",
    "           \"And the magical things you can do with that ball\",\n",
    "           \"will make you the winning-est winner of all.\",\n",
    "           \"Fame! You'll be as famous as famous can be,\",\n",
    "           \"with the whole wide world watching you win on TV.\",\n",
    "           \"Except when they don't\",\n",
    "           \"Because, sometimes they won't.\",\n",
    "           \"I'm afraid that some times\",\n",
    "           \"you'll play lonely games too.\",\n",
    "           \"Games you can't win\",\n",
    "           \"'cause you'll play against you.\",\n",
    "           \"-- Dr. Seuss, Oh, The Places You'll Go!\",           \n",
    "           \"- Dr. Seuss\"]\n",
    "seuss[:3]"
   ]
  },
  {
   "cell_type": "code",
   "execution_count": 5,
   "metadata": {},
   "outputs": [
    {
     "data": {
      "text/plain": [
       "'You have brains in your head. You have feet in your shoes. You can steer yourself any direction you'"
      ]
     },
     "execution_count": 5,
     "metadata": {},
     "output_type": "execute_result"
    }
   ],
   "source": [
    "seuss_text=\" \".join(seuss)\n",
    "seuss_text[:99]"
   ]
  },
  {
   "cell_type": "code",
   "execution_count": 6,
   "metadata": {
    "scrolled": true
   },
   "outputs": [
    {
     "data": {
      "text/plain": [
       "['You have brains in your head.',\n",
       " 'You have feet in your shoes.',\n",
       " 'You can steer yourself any direction you choose.',\n",
       " \"You're on your own.\",\n",
       " 'And you know what you know.',\n",
       " \"And YOU are the one who'll decide where to go... Today you are you, that is truer than true.\",\n",
       " 'There is no one alive who is youer than you.',\n",
       " \"- Dr. Seuss Don't cry because it's over.\",\n",
       " 'Smile because it happened.',\n",
       " '- Dr. Seuss Unless someone like you cares a whole awful lot, nothing is going to get better.',\n",
       " \"It's not.\",\n",
       " \"- Dr. Seuss A person's a person, no matter how small.\",\n",
       " '- Dr. Seuss Today is your day!',\n",
       " 'Your mountain is waiting so get on your way!',\n",
       " \"- Dr. Seuss You're never too old, too wacky, too wild, to pick up a book and read to a child.\",\n",
       " '- Dr. Seuss The more that you read, the more things you will know.',\n",
       " \"The more that you learn, the more places you'll go.\",\n",
       " \"- Dr. Seuss Oh the things you can find if you don't stay behind!\",\n",
       " '- Dr. Seuss And turtles, of course.',\n",
       " 'all the turtles are FREE.',\n",
       " 'As turtles and, maybe, ALL creatures should be.',\n",
       " \"- Dr. Seuss With your head full of brains and your shoes full of feet, you're too smart to go down any not-so-good street.\",\n",
       " \"- Dr. Seuss You're on your own.\",\n",
       " 'And you know what you know.',\n",
       " \"And you're the one who'll decide where to go.\",\n",
       " '- Dr. Seuss Sometimes the questions are complicated and the answers are simple.',\n",
       " '- Dr. Seuss You do not like them.',\n",
       " 'So you say.',\n",
       " 'Try them!',\n",
       " 'Try them!',\n",
       " 'And you may!',\n",
       " '- Dr. Seuss You have brains in your head, you have feet in your shoes.',\n",
       " 'You can steer yourself any direction you choose.']"
      ]
     },
     "execution_count": 6,
     "metadata": {},
     "output_type": "execute_result"
    }
   ],
   "source": [
    "from nltk.tokenize import word_tokenize, sent_tokenize\n",
    "seuss_sentences=sent_tokenize(seuss_text)\n",
    "seuss_sentences[:33]"
   ]
  },
  {
   "cell_type": "code",
   "execution_count": 7,
   "metadata": {},
   "outputs": [
    {
     "data": {
      "text/plain": [
       "[['You', 'have', 'brains', 'in', 'your', 'head', '.'],\n",
       " ['You', 'have', 'feet', 'in', 'your', 'shoes', '.'],\n",
       " ['You', 'can', 'steer', 'yourself', 'any', 'direction', 'you', 'choose', '.'],\n",
       " ['You', \"'re\", 'on', 'your', 'own', '.'],\n",
       " ['And', 'you', 'know', 'what', 'you', 'know', '.'],\n",
       " ['And',\n",
       "  'YOU',\n",
       "  'are',\n",
       "  'the',\n",
       "  'one',\n",
       "  'who',\n",
       "  \"'ll\",\n",
       "  'decide',\n",
       "  'where',\n",
       "  'to',\n",
       "  'go',\n",
       "  '...',\n",
       "  'Today',\n",
       "  'you',\n",
       "  'are',\n",
       "  'you',\n",
       "  ',',\n",
       "  'that',\n",
       "  'is',\n",
       "  'truer',\n",
       "  'than',\n",
       "  'true',\n",
       "  '.'],\n",
       " ['There',\n",
       "  'is',\n",
       "  'no',\n",
       "  'one',\n",
       "  'alive',\n",
       "  'who',\n",
       "  'is',\n",
       "  'youer',\n",
       "  'than',\n",
       "  'you',\n",
       "  '.'],\n",
       " ['-', 'Dr.', 'Seuss', 'Do', \"n't\", 'cry', 'because', 'it', \"'s\", 'over', '.'],\n",
       " ['Smile', 'because', 'it', 'happened', '.'],\n",
       " ['-',\n",
       "  'Dr.',\n",
       "  'Seuss',\n",
       "  'Unless',\n",
       "  'someone',\n",
       "  'like',\n",
       "  'you',\n",
       "  'cares',\n",
       "  'a',\n",
       "  'whole',\n",
       "  'awful',\n",
       "  'lot',\n",
       "  ',',\n",
       "  'nothing',\n",
       "  'is',\n",
       "  'going',\n",
       "  'to',\n",
       "  'get',\n",
       "  'better',\n",
       "  '.'],\n",
       " ['It', \"'s\", 'not', '.'],\n",
       " ['-',\n",
       "  'Dr.',\n",
       "  'Seuss',\n",
       "  'A',\n",
       "  'person',\n",
       "  \"'s\",\n",
       "  'a',\n",
       "  'person',\n",
       "  ',',\n",
       "  'no',\n",
       "  'matter',\n",
       "  'how',\n",
       "  'small',\n",
       "  '.'],\n",
       " ['-', 'Dr.', 'Seuss', 'Today', 'is', 'your', 'day', '!'],\n",
       " ['Your', 'mountain', 'is', 'waiting', 'so', 'get', 'on', 'your', 'way', '!'],\n",
       " ['-',\n",
       "  'Dr.',\n",
       "  'Seuss',\n",
       "  'You',\n",
       "  \"'re\",\n",
       "  'never',\n",
       "  'too',\n",
       "  'old',\n",
       "  ',',\n",
       "  'too',\n",
       "  'wacky',\n",
       "  ',',\n",
       "  'too',\n",
       "  'wild',\n",
       "  ',',\n",
       "  'to',\n",
       "  'pick',\n",
       "  'up',\n",
       "  'a',\n",
       "  'book',\n",
       "  'and',\n",
       "  'read',\n",
       "  'to',\n",
       "  'a',\n",
       "  'child',\n",
       "  '.'],\n",
       " ['-',\n",
       "  'Dr.',\n",
       "  'Seuss',\n",
       "  'The',\n",
       "  'more',\n",
       "  'that',\n",
       "  'you',\n",
       "  'read',\n",
       "  ',',\n",
       "  'the',\n",
       "  'more',\n",
       "  'things',\n",
       "  'you',\n",
       "  'will',\n",
       "  'know',\n",
       "  '.'],\n",
       " ['The',\n",
       "  'more',\n",
       "  'that',\n",
       "  'you',\n",
       "  'learn',\n",
       "  ',',\n",
       "  'the',\n",
       "  'more',\n",
       "  'places',\n",
       "  'you',\n",
       "  \"'ll\",\n",
       "  'go',\n",
       "  '.'],\n",
       " ['-',\n",
       "  'Dr.',\n",
       "  'Seuss',\n",
       "  'Oh',\n",
       "  'the',\n",
       "  'things',\n",
       "  'you',\n",
       "  'can',\n",
       "  'find',\n",
       "  'if',\n",
       "  'you',\n",
       "  'do',\n",
       "  \"n't\",\n",
       "  'stay',\n",
       "  'behind',\n",
       "  '!'],\n",
       " ['-', 'Dr.', 'Seuss', 'And', 'turtles', ',', 'of', 'course', '.'],\n",
       " ['all', 'the', 'turtles', 'are', 'FREE', '.'],\n",
       " ['As',\n",
       "  'turtles',\n",
       "  'and',\n",
       "  ',',\n",
       "  'maybe',\n",
       "  ',',\n",
       "  'ALL',\n",
       "  'creatures',\n",
       "  'should',\n",
       "  'be',\n",
       "  '.'],\n",
       " ['-',\n",
       "  'Dr.',\n",
       "  'Seuss',\n",
       "  'With',\n",
       "  'your',\n",
       "  'head',\n",
       "  'full',\n",
       "  'of',\n",
       "  'brains',\n",
       "  'and',\n",
       "  'your',\n",
       "  'shoes',\n",
       "  'full',\n",
       "  'of',\n",
       "  'feet',\n",
       "  ',',\n",
       "  'you',\n",
       "  \"'re\",\n",
       "  'too',\n",
       "  'smart',\n",
       "  'to',\n",
       "  'go',\n",
       "  'down',\n",
       "  'any',\n",
       "  'not-so-good',\n",
       "  'street',\n",
       "  '.'],\n",
       " ['-', 'Dr.', 'Seuss', 'You', \"'re\", 'on', 'your', 'own', '.'],\n",
       " ['And', 'you', 'know', 'what', 'you', 'know', '.'],\n",
       " ['And',\n",
       "  'you',\n",
       "  \"'re\",\n",
       "  'the',\n",
       "  'one',\n",
       "  'who',\n",
       "  \"'ll\",\n",
       "  'decide',\n",
       "  'where',\n",
       "  'to',\n",
       "  'go',\n",
       "  '.'],\n",
       " ['-',\n",
       "  'Dr.',\n",
       "  'Seuss',\n",
       "  'Sometimes',\n",
       "  'the',\n",
       "  'questions',\n",
       "  'are',\n",
       "  'complicated',\n",
       "  'and',\n",
       "  'the',\n",
       "  'answers',\n",
       "  'are',\n",
       "  'simple',\n",
       "  '.'],\n",
       " ['-', 'Dr.', 'Seuss', 'You', 'do', 'not', 'like', 'them', '.'],\n",
       " ['So', 'you', 'say', '.'],\n",
       " ['Try', 'them', '!'],\n",
       " ['Try', 'them', '!'],\n",
       " ['And', 'you', 'may', '!'],\n",
       " ['-',\n",
       "  'Dr.',\n",
       "  'Seuss',\n",
       "  'You',\n",
       "  'have',\n",
       "  'brains',\n",
       "  'in',\n",
       "  'your',\n",
       "  'head',\n",
       "  ',',\n",
       "  'you',\n",
       "  'have',\n",
       "  'feet',\n",
       "  'in',\n",
       "  'your',\n",
       "  'shoes',\n",
       "  '.'],\n",
       " ['You', 'can', 'steer', 'yourself', 'any', 'direction', 'you', 'choose', '.']]"
      ]
     },
     "execution_count": 7,
     "metadata": {},
     "output_type": "execute_result"
    }
   ],
   "source": [
    "seuss_words=[word_tokenize(s) for s in seuss_sentences]\n",
    "seuss_words[:33]"
   ]
  },
  {
   "cell_type": "code",
   "execution_count": 8,
   "metadata": {
    "collapsed": true
   },
   "outputs": [],
   "source": [
    "def extract_counts(sentences):\n",
    "    n_sents = len(sentences)\n",
    "    n_words = 0\n",
    "    n_chars = 0\n",
    "    for sentence in sentences:\n",
    "        n_words +=  len(sentence)\n",
    "        for word in sentence:\n",
    "            n_chars += len(word)\n",
    "            \n",
    "    return n_chars, n_words,n_sents"
   ]
  },
  {
   "cell_type": "code",
   "execution_count": 9,
   "metadata": {},
   "outputs": [
    {
     "data": {
      "text/plain": [
       "(5078, 1529, 144)"
      ]
     },
     "execution_count": 9,
     "metadata": {},
     "output_type": "execute_result"
    }
   ],
   "source": [
    "sentences = [[\"This\", \"was\", \"rather\", \"easy\", \".\"], \n",
    "             [\"Please\", \"give\", \"me\", \"something\", \"more\", \"challenging\"]]\n",
    "\n",
    "ec = extract_counts(seuss_words) # n_chars, n_words, n_sents\n",
    "ec"
   ]
  },
  {
   "cell_type": "markdown",
   "metadata": {},
   "source": [
    "## Automated Readability Index\n",
    "\n",
    "The [automated readability index](https://en.wikipedia.org/wiki/Automated_readability_index) (**ARI**) is a readability test for English texts, designed to gauge the understandability of a text.\n",
    "\n",
    "Like the Flesch–Kincaid grade level, Gunning fog index, SMOG\n",
    "index, Fry readability formula, and Coleman–Liau index, it produces\n",
    "an approximate representation of the US grade level needed to\n",
    "comprehend the text.\n",
    "\n",
    "The formula for calculating the automated readability index is given\n",
    "below:\n",
    "\n",
    "$$4.71 \\left (\\frac{\\mbox{characters}}{\\mbox{words}} \\right) + 0.5 \\left (\\frac{\\mbox{words}}{\\mbox{sentences}} \\right)  - 21.43$$\n",
    "\n",
    "where *characters* is the number of letters and numbers, *words* is the\n",
    "number of spaces, and *sentences* is the number of sentences, which were\n",
    "counted manually by the typist when the above formula was developed.\n",
    "Non-integer scores are always rounded up to the nearest whole number, so\n",
    "a score of 10.1 or 10.6 would be converted to 11.\n",
    "\n",
    "As a rough guide, US grade level 1 corresponds to ages 6–8. Reading\n",
    "level grade 8 corresponds to the typical reading level of a 14-year-old\n",
    "US child. Grade 12, the highest US secondary-school grade before\n",
    "college, corresponds to the reading level of a 17-year-old.\n",
    "\n",
    "Unlike the other indices, the ARI, along with the Coleman–Liau, relies\n",
    "on a factor of characters per word, instead of the usual syllables per\n",
    "word. Although opinion varies on its accuracy as compared to the\n",
    "syllables/word and complex words indices, characters/word is often\n",
    "faster to calculate, as the number of characters is more readily and\n",
    "accurately counted by computer programs than syllables. In fact, this\n",
    "index was designed for real-time monitoring of readability on electric\n",
    "typewriters."
   ]
  },
  {
   "cell_type": "code",
   "execution_count": 10,
   "metadata": {
    "collapsed": true
   },
   "outputs": [],
   "source": [
    "def AutomatedReadabilityIndex(n_chars, n_words, n_sents):\n",
    "    return 4.71 * (n_chars / n_words) + 0.5 * (n_words / n_sents) - 21.43"
   ]
  },
  {
   "cell_type": "code",
   "execution_count": 11,
   "metadata": {
    "collapsed": true
   },
   "outputs": [],
   "source": [
    "def compute_ARI(sentences):\n",
    "    n_chars, n_words, n_sents = extract_counts(sentences)\n",
    "    return AutomatedReadabilityIndex(n_chars, n_words, n_sents)"
   ]
  },
  {
   "cell_type": "code",
   "execution_count": 12,
   "metadata": {},
   "outputs": [
    {
     "data": {
      "text/plain": [
       "-0.478473857277816"
      ]
     },
     "execution_count": 12,
     "metadata": {},
     "output_type": "execute_result"
    }
   ],
   "source": [
    "ari=compute_ARI(seuss_words)\n",
    "ari"
   ]
  },
  {
   "cell_type": "markdown",
   "metadata": {},
   "source": [
    "  ------- ------- ----------------\n",
    "  Score   Age     Grade Level   \n",
    "  1       5-6     Kindergarten   \n",
    "  2       6-7     First Grade   \n",
    "  3       7-8     Second Grade   \n",
    "  4       8-9     Third Grade   \n",
    "  5       9-10    Fourth Grade   \n",
    "  6       10-11   Fifth Grade   \n",
    "  7       11-12   Sixth Grade   \n",
    "  8       12-13   Seventh Grade   \n",
    "  9       13-14   Eighth Grade   \n",
    "  10      14-15   Ninth Grade   \n",
    "  11      15-16   Tenth Grade   \n",
    "  12      16-17   Eleventh grade   \n",
    "  13      17-18   Twelfth grade   \n",
    "  14      18-22   College   \n",
    "  ------- ------- ----------------\n"
   ]
  },
  {
   "cell_type": "markdown",
   "metadata": {},
   "source": [
    "## How about the ARI for this Wikipedia text?\n",
    "\n",
    "**Machine learning** is a field of computer science that gives\n",
    "computers the ability to learn without being explicitly\n",
    "programmed.\n",
    "\n",
    "Arthur Samuel, an American pioneer in the field of computer gaming\n",
    "and artificial intelligence, coined the term “Machine Learning” in 1959\n",
    "while at IBM. Evolved from the study of pattern recognition and\n",
    "computational learning theory in artificial intelligence,\n",
    "machine learning explores the study and construction of algorithms\n",
    "that can learn from and make predictions on data – such algorithms\n",
    "overcome following strictly static program instructions by making\n",
    "data-driven predictions or decisions, through building a model\n",
    "from sample inputs. Machine learning is employed in a range of computing\n",
    "tasks where designing and programming explicit algorithms with good\n",
    "performance is difficult or infeasible; example applications include\n",
    "email filtering, detection of network intruders or malicious insiders\n",
    "working towards a data breach,optical character recognition\n",
    "(OCR),learning to rank, and computer vision."
   ]
  },
  {
   "cell_type": "code",
   "execution_count": 13,
   "metadata": {},
   "outputs": [
    {
     "data": {
      "text/plain": [
       "[['Machine',\n",
       "  'learning',\n",
       "  'is',\n",
       "  'a',\n",
       "  'field',\n",
       "  'of',\n",
       "  'computer',\n",
       "  'science',\n",
       "  'that',\n",
       "  'gives',\n",
       "  'computers',\n",
       "  'the',\n",
       "  'ability',\n",
       "  'to',\n",
       "  'learn',\n",
       "  'without',\n",
       "  'being',\n",
       "  'explicitly',\n",
       "  'programmed',\n",
       "  '.'],\n",
       " ['Arthur',\n",
       "  'Samuel',\n",
       "  ',',\n",
       "  'an',\n",
       "  'American',\n",
       "  'pioneer',\n",
       "  'in',\n",
       "  'the',\n",
       "  'field',\n",
       "  'of',\n",
       "  'computer',\n",
       "  'gaming',\n",
       "  'and',\n",
       "  'artificial',\n",
       "  'intelligence',\n",
       "  ',',\n",
       "  'coined',\n",
       "  'the',\n",
       "  'term',\n",
       "  '“',\n",
       "  'Machine',\n",
       "  'Learning',\n",
       "  '”',\n",
       "  'in',\n",
       "  '1959',\n",
       "  'while',\n",
       "  'at',\n",
       "  'IBM',\n",
       "  '.'],\n",
       " ['Evolved',\n",
       "  'from',\n",
       "  'the',\n",
       "  'study',\n",
       "  'of',\n",
       "  'pattern',\n",
       "  'recognition',\n",
       "  'and',\n",
       "  'computational',\n",
       "  'learning',\n",
       "  'theory',\n",
       "  'in',\n",
       "  'artificial',\n",
       "  'intelligence',\n",
       "  ',',\n",
       "  'machine',\n",
       "  'learning',\n",
       "  'explores',\n",
       "  'the',\n",
       "  'study',\n",
       "  'and',\n",
       "  'construction',\n",
       "  'of',\n",
       "  'algorithms',\n",
       "  'that',\n",
       "  'can',\n",
       "  'learn',\n",
       "  'from',\n",
       "  'and',\n",
       "  'make',\n",
       "  'predictions',\n",
       "  'on',\n",
       "  'data',\n",
       "  '–',\n",
       "  'such',\n",
       "  'algorithms',\n",
       "  'overcome',\n",
       "  'following',\n",
       "  'strictly',\n",
       "  'static',\n",
       "  'program',\n",
       "  'instructions',\n",
       "  'by',\n",
       "  'making',\n",
       "  'data-driven',\n",
       "  'predictions',\n",
       "  'or',\n",
       "  'decisions',\n",
       "  ',',\n",
       "  'through',\n",
       "  'building',\n",
       "  'a',\n",
       "  'model',\n",
       "  'from',\n",
       "  'sample',\n",
       "  'inputs',\n",
       "  '.']]"
      ]
     },
     "execution_count": 13,
     "metadata": {},
     "output_type": "execute_result"
    }
   ],
   "source": [
    "ml_txt='Machine learning is a field of computer science that gives computers the ability to learn without being explicitly programmed. Arthur Samuel, an American pioneer in the field of computer gaming and artificial intelligence, coined the term “Machine Learning” in 1959 while at IBM. Evolved from the study of pattern recognition and computational learning theory in artificial intelligence, machine learning explores the study and construction of algorithms that can learn from and make predictions on data – such algorithms overcome following strictly static program instructions by making data-driven predictions or decisions, through building a model from sample inputs. Machine learning is employed in a range of computing tasks where designing and programming explicit algorithms with good performance is difficult or infeasible; example applications include email filtering, detection of network intruders or malicious insiders working towards a data breach,optical character recognition (OCR),learning to rank, and computer vision.'\n",
    "ml_sentences=sent_tokenize(ml_txt)\n",
    "ml_words=[word_tokenize(s) for s in ml_sentences]\n",
    "ml_words[0:3]"
   ]
  },
  {
   "cell_type": "code",
   "execution_count": 14,
   "metadata": {},
   "outputs": [
    {
     "data": {
      "text/plain": [
       "24.659085365853656"
      ]
     },
     "execution_count": 14,
     "metadata": {},
     "output_type": "execute_result"
    }
   ],
   "source": [
    "ari=compute_ARI(ml_words)\n",
    "ari"
   ]
  },
  {
   "cell_type": "markdown",
   "metadata": {},
   "source": [
    "## Stop words\n",
    "\n",
    "Stop words are words which are filtered out before or after processing of natural language data (text).[1] Though \"stop words\" usually refers to the most common words in a language, there is no single universal list of stop words used by all natural language processing tools, and indeed not all tools even use such a list. Some tools specifically avoid removing these stop words to support phrase search.\n"
   ]
  },
  {
   "cell_type": "code",
   "execution_count": 15,
   "metadata": {},
   "outputs": [
    {
     "data": {
      "text/plain": [
       "['i',\n",
       " 'me',\n",
       " 'my',\n",
       " 'myself',\n",
       " 'we',\n",
       " 'our',\n",
       " 'ours',\n",
       " 'ourselves',\n",
       " 'you',\n",
       " 'your',\n",
       " 'yours']"
      ]
     },
     "execution_count": 15,
     "metadata": {},
     "output_type": "execute_result"
    }
   ],
   "source": [
    "from nltk.corpus import stopwords\n",
    "stop=stopwords.words('english')\n",
    "stop[0:11]"
   ]
  },
  {
   "cell_type": "code",
   "execution_count": 16,
   "metadata": {},
   "outputs": [
    {
     "data": {
      "text/plain": [
       "{'!',\n",
       " '\"',\n",
       " '#',\n",
       " '$',\n",
       " '%',\n",
       " '&',\n",
       " \"'\",\n",
       " '(',\n",
       " ')',\n",
       " '*',\n",
       " '+',\n",
       " ',',\n",
       " '-',\n",
       " '.',\n",
       " '/',\n",
       " ':',\n",
       " ';',\n",
       " '<',\n",
       " '=',\n",
       " '>',\n",
       " '?',\n",
       " '@',\n",
       " '[',\n",
       " '\\\\',\n",
       " ']',\n",
       " '^',\n",
       " '_',\n",
       " '`',\n",
       " 'a',\n",
       " 'about',\n",
       " 'above',\n",
       " 'after',\n",
       " 'again',\n",
       " 'against',\n",
       " 'ain',\n",
       " 'all',\n",
       " 'am',\n",
       " 'an',\n",
       " 'and',\n",
       " 'any',\n",
       " 'are',\n",
       " 'aren',\n",
       " 'as',\n",
       " 'at',\n",
       " 'be',\n",
       " 'because',\n",
       " 'been',\n",
       " 'before',\n",
       " 'being',\n",
       " 'below',\n",
       " 'between',\n",
       " 'both',\n",
       " 'but',\n",
       " 'by',\n",
       " 'can',\n",
       " 'couldn',\n",
       " 'd',\n",
       " 'did',\n",
       " 'didn',\n",
       " 'do',\n",
       " 'does',\n",
       " 'doesn',\n",
       " 'doing',\n",
       " 'don',\n",
       " 'down',\n",
       " 'during',\n",
       " 'each',\n",
       " 'few',\n",
       " 'for',\n",
       " 'from',\n",
       " 'further',\n",
       " 'had',\n",
       " 'hadn',\n",
       " 'has',\n",
       " 'hasn',\n",
       " 'have',\n",
       " 'haven',\n",
       " 'having',\n",
       " 'he',\n",
       " 'her',\n",
       " 'here',\n",
       " 'hers',\n",
       " 'herself',\n",
       " 'him',\n",
       " 'himself',\n",
       " 'his',\n",
       " 'how',\n",
       " 'i',\n",
       " 'if',\n",
       " 'in',\n",
       " 'into',\n",
       " 'is',\n",
       " 'isn',\n",
       " 'it',\n",
       " 'its',\n",
       " 'itself',\n",
       " 'just',\n",
       " 'll',\n",
       " 'm',\n",
       " 'ma',\n",
       " 'me',\n",
       " 'mightn',\n",
       " 'more',\n",
       " 'most',\n",
       " 'mustn',\n",
       " 'my',\n",
       " 'myself',\n",
       " 'needn',\n",
       " 'no',\n",
       " 'nor',\n",
       " 'not',\n",
       " 'now',\n",
       " 'o',\n",
       " 'of',\n",
       " 'off',\n",
       " 'on',\n",
       " 'once',\n",
       " 'only',\n",
       " 'or',\n",
       " 'other',\n",
       " 'our',\n",
       " 'ours',\n",
       " 'ourselves',\n",
       " 'out',\n",
       " 'over',\n",
       " 'own',\n",
       " 're',\n",
       " 's',\n",
       " 'same',\n",
       " 'shan',\n",
       " 'she',\n",
       " 'should',\n",
       " 'shouldn',\n",
       " 'so',\n",
       " 'some',\n",
       " 'such',\n",
       " 't',\n",
       " 'than',\n",
       " 'that',\n",
       " 'the',\n",
       " 'their',\n",
       " 'theirs',\n",
       " 'them',\n",
       " 'themselves',\n",
       " 'then',\n",
       " 'there',\n",
       " 'these',\n",
       " 'they',\n",
       " 'this',\n",
       " 'those',\n",
       " 'through',\n",
       " 'to',\n",
       " 'too',\n",
       " 'under',\n",
       " 'until',\n",
       " 'up',\n",
       " 've',\n",
       " 'very',\n",
       " 'was',\n",
       " 'wasn',\n",
       " 'we',\n",
       " 'were',\n",
       " 'weren',\n",
       " 'what',\n",
       " 'when',\n",
       " 'where',\n",
       " 'which',\n",
       " 'while',\n",
       " 'who',\n",
       " 'whom',\n",
       " 'why',\n",
       " 'will',\n",
       " 'with',\n",
       " 'won',\n",
       " 'wouldn',\n",
       " 'y',\n",
       " 'you',\n",
       " 'your',\n",
       " 'yours',\n",
       " 'yourself',\n",
       " 'yourselves',\n",
       " '{',\n",
       " '|',\n",
       " '}',\n",
       " '~'}"
      ]
     },
     "execution_count": 16,
     "metadata": {},
     "output_type": "execute_result"
    }
   ],
   "source": [
    "from nltk.corpus import stopwords \n",
    "from string import punctuation\n",
    "my_stopwords=set(stopwords.words('english')+list(punctuation))\n",
    "my_stopwords"
   ]
  },
  {
   "cell_type": "markdown",
   "metadata": {},
   "source": [
    "## Stemming\n",
    "\n",
    "In linguistic morphology and information retrieval, stemming is the process of reducing inflected (or sometimes derived) words to their word stem, base or root form—generally a written word form.\n",
    "\n",
    "A stemmer for English, for example, should identify the string \"cats\" (and possibly \"catlike\", \"catty\" etc.) as based on the root \"cat\", and \"stems\", \"stemmer\", \"stemming\", \"stemmed\" as based on \"stem\". A stemming algorithm reduces the words \"fishing\", \"fished\", and \"fisher\" to the root word, \"fish\". On the other hand, \"argue\", \"argued\", \"argues\", \"arguing\", and \"argus\" reduce to the stem \"argu\" (illustrating the case where the stem is not itself a word or root) but \"argument\" and \"arguments\" reduce to the stem \"argument\".\n",
    "\n",
    "\n",
    "### Algorithms\n",
    "\n",
    "There are several types of stemming algorithms which differ in respect to performance and accuracy and how certain stemming obstacles are overcome.\n",
    "\n",
    "A simple stemmer looks up the inflected form in a [[lookup table]]. The advantages of this approach are that it is simple, fast, and easily handles exceptions. The disadvantages are that all inflected forms must be explicitly listed in the table: new or unfamiliar words are not handled, even if they are perfectly regular (e.g. iPads ~ iPad), and the table may be large. For languages with simple morphology, like English, table sizes are modest, but highly inflected languages like Turkish may have hundreds of potential inflected forms for each root.\n",
    "\n",
    "A lookup approach may use preliminary part-of-speech tagging to avoid overstemming.<ref>Yatsko, V. A.; [http://yatsko.zohosites.com/y-stemmer.html ''Y-stemmer'']</ref>\n",
    "\n",
    "\n",
    "### The production technique\n",
    "\n",
    "The lookup table used by a stemmer is generally produced semi-automatically. For example, if the word is \"run\", then the inverted algorithm might automatically generate the forms \"running\", \"runs\", \"runned\", and \"runly\". The last two forms are valid constructions, but they are unlikely.\n",
    "\n",
    "### Suffix-stripping algorithms\n",
    "\n",
    "Suffix stripping algorithms do not rely on a lookup table that consists of inflected forms and root form relations. Instead, a typically smaller list of \"rules\" is stored which provides a path for the algorithm, given an input word form, to find its root form. Some examples of the rules include:\n",
    "* if the word ends in 'ed', remove the 'ed'\n",
    "* if the word ends in 'ing', remove the 'ing'\n",
    "* if the word ends in 'ly', remove the 'ly'\n",
    "\n",
    "Suffix stripping approaches enjoy the benefit of being much simpler to maintain than brute force algorithms, assuming the maintainer is sufficiently knowledgeable in the challenges of linguistics and morphology and encoding suffix stripping rules. Suffix stripping algorithms are sometimes regarded as crude given the poor performance when dealing with exceptional relations (like 'ran' and 'run'). The solutions produced by suffix stripping algorithms are limited to those [[lexical category|lexical categories]] which have well known suffixes with few exceptions. This, however, is a problem, as not all parts of speech have such a well formulated set of rules. [[Lemmatisation]] attempts to improve upon this challenge.\n",
    "\n",
    "Prefix stripping may also be implemented. Of course, not all languages use prefixing or suffixing.\n",
    "\n"
   ]
  },
  {
   "cell_type": "code",
   "execution_count": 17,
   "metadata": {
    "scrolled": true
   },
   "outputs": [
    {
     "data": {
      "text/plain": [
       "['you',\n",
       " 'hav',\n",
       " 'brain',\n",
       " 'in',\n",
       " 'yo',\n",
       " 'head',\n",
       " '.',\n",
       " 'you',\n",
       " 'hav',\n",
       " 'feet',\n",
       " 'in',\n",
       " 'yo',\n",
       " 'sho',\n",
       " '.',\n",
       " 'you',\n",
       " 'can',\n",
       " 'ste',\n",
       " 'yourself',\n",
       " 'any',\n",
       " 'direct',\n",
       " 'you',\n",
       " 'choos',\n",
       " '.',\n",
       " 'you',\n",
       " \"'re\",\n",
       " 'on',\n",
       " 'yo',\n",
       " 'own',\n",
       " '.',\n",
       " 'and',\n",
       " 'you',\n",
       " 'know',\n",
       " 'what']"
      ]
     },
     "execution_count": 17,
     "metadata": {},
     "output_type": "execute_result"
    }
   ],
   "source": [
    "from nltk.stem.lancaster import LancasterStemmer\n",
    "st=LancasterStemmer()\n",
    "stemmed_words=[st.stem(word) for word in word_tokenize(seuss_text)]\n",
    "stemmed_words[:33]"
   ]
  },
  {
   "cell_type": "markdown",
   "metadata": {},
   "source": [
    "## POS tagging\n",
    "\n",
    "A Part-Of-Speech Tagger (POS Tagger) is a piece of software that reads text in some language and assigns parts of speech to each word (and other token), such as noun, verb, adjective, etc\n",
    "\n",
    "\n",
    "Tag\t| Meaning\t | Examples\n",
    "----|------------|----------\n",
    "ADJ\t| adjective\t | new, good, high, special, big, local\n",
    "ADV\t| adverb\t | really, already, still, early, now\n",
    "CONJ| conjunction| and, or, but, if, while, although\n",
    "DET\t| determiner | the, a, some, most, every, no\n",
    "X\t| other, foreign words | dolce, ersatz, esprit, quo, maitre\n",
    "NOUN | noun\t     | year, home, costs, time, education\n",
    "PROPN| proper noun | Alison, Africa, April, Washington\n",
    "NUM\t | numeral\t| twenty-four, fourth, 1991, 14:24\n",
    "PRON | pronoun\t| he, their, her, its, my, I, us\n",
    "ADP  | adposition, preposition | on, of, at, with, by, into, under\n",
    "AUX\t | auxiliary verb | has (done), is (doing), will (do), should (do), must (do), can (do)\n",
    "INTJ | interjection | ah, bang, ha, whee, hmpf, oops\n",
    "VERB | verb | is, has, get, do, make, see, run\n",
    "PART | particle | possessive marker 's, negation 'not'\n",
    "SCONJ | subordinating conjunction: complementizer, adverbial clause introducer | I believe 'that' he will come, if, while\n",
    "SYM\t| symbol | $, %, (C), +, *, /, =, :), john.doe@example.com\n",
    "\n",
    "\n",
    "Many approaches are used to determine parts of speech:\n",
    "\n",
    "- **Syntactic**: 2 words of the same class can substitute each other in a sentence and leave the sentence syntactically acceptable\n",
    "- **Morphological**: words of the same class are inflected in similar manner\n",
    "- **Semantic**: words of the same class denote entities of similar semantic types (object, action, property, relation)\n"
   ]
  },
  {
   "cell_type": "code",
   "execution_count": 18,
   "metadata": {},
   "outputs": [
    {
     "data": {
      "text/plain": [
       "[('You', 'PRP'),\n",
       " ('have', 'VBP'),\n",
       " ('brains', 'NNS'),\n",
       " ('in', 'IN'),\n",
       " ('your', 'PRP$'),\n",
       " ('head', 'NN'),\n",
       " ('.', '.'),\n",
       " ('You', 'PRP'),\n",
       " ('have', 'VBP'),\n",
       " ('feet', 'NNS'),\n",
       " ('in', 'IN'),\n",
       " ('your', 'PRP$'),\n",
       " ('shoes', 'NNS'),\n",
       " ('.', '.'),\n",
       " ('You', 'PRP'),\n",
       " ('can', 'MD'),\n",
       " ('steer', 'VB'),\n",
       " ('yourself', 'PRP'),\n",
       " ('any', 'DT'),\n",
       " ('direction', 'NN'),\n",
       " ('you', 'PRP'),\n",
       " ('choose', 'VBP'),\n",
       " ('.', '.'),\n",
       " ('You', 'PRP'),\n",
       " (\"'re\", 'VBP'),\n",
       " ('on', 'IN'),\n",
       " ('your', 'PRP$'),\n",
       " ('own', 'JJ'),\n",
       " ('.', '.'),\n",
       " ('And', 'CC'),\n",
       " ('you', 'PRP'),\n",
       " ('know', 'VBP'),\n",
       " ('what', 'WP')]"
      ]
     },
     "execution_count": 18,
     "metadata": {},
     "output_type": "execute_result"
    }
   ],
   "source": [
    "pos=nltk.pos_tag(word_tokenize(seuss_text))\n",
    "pos[:33]"
   ]
  },
  {
   "cell_type": "code",
   "execution_count": 19,
   "metadata": {
    "scrolled": true
   },
   "outputs": [
    {
     "name": "stdout",
     "output_type": "stream",
     "text": [
      "Tagged:  [('The', 'DET'), ('Fulton', 'NOUN'), ('County', 'NOUN'), ('Grand', 'ADJ'), ('Jury', 'NOUN'), ('said', 'VERB'), ('Friday', 'NOUN'), ('an', 'DET'), ('investigation', 'NOUN'), ('of', 'ADP'), (\"Atlanta's\", 'NOUN'), ('recent', 'ADJ'), ('primary', 'NOUN'), ('election', 'NOUN'), ('produced', 'VERB'), ('``', '.'), ('no', 'DET'), ('evidence', 'NOUN'), (\"''\", '.'), ('that', 'ADP'), ('any', 'DET'), ('irregularities', 'NOUN'), ('took', 'VERB'), ('place', 'NOUN'), ('.', '.')]\n",
      "Untagged:  ['The', 'Fulton', 'County', 'Grand', 'Jury', 'said', 'Friday', 'an', 'investigation', 'of', \"Atlanta's\", 'recent', 'primary', 'election', 'produced', '``', 'no', 'evidence', \"''\", 'that', 'any', 'irregularities', 'took', 'place', '.']\n"
     ]
    }
   ],
   "source": [
    "from nltk.corpus import brown\n",
    "brown_news_tagged = brown.tagged_sents(categories='news', tagset='universal')\n",
    "brown_news_words = brown.tagged_words(categories='news', tagset='universal')\n",
    "\n",
    "brown_train = brown_news_tagged[100:]\n",
    "brown_test = brown_news_tagged[:100]\n",
    "\n",
    "from nltk.tag import untag\n",
    "test_sent = untag(brown_test[0])\n",
    "print(\"Tagged: \", brown_test[0])\n",
    "print(\"Untagged: \", test_sent)"
   ]
  },
  {
   "cell_type": "code",
   "execution_count": 20,
   "metadata": {},
   "outputs": [
    {
     "data": {
      "text/plain": [
       "[('The', 'DET'),\n",
       " ('Fulton', 'NOUN'),\n",
       " ('County', 'NOUN'),\n",
       " ('Grand', 'ADJ'),\n",
       " ('Jury', 'NOUN'),\n",
       " ('said', 'VERB'),\n",
       " ('Friday', 'NOUN'),\n",
       " ('an', 'DET'),\n",
       " ('investigation', 'NOUN'),\n",
       " ('of', 'ADP'),\n",
       " (\"Atlanta's\", 'NOUN')]"
      ]
     },
     "execution_count": 20,
     "metadata": {},
     "output_type": "execute_result"
    }
   ],
   "source": [
    "brown_news_words[0:11] \n",
    "# news_words = [word for word in brown_news_words.words(categories=['news']) if word not in stopwords.words('english')]"
   ]
  },
  {
   "cell_type": "code",
   "execution_count": 21,
   "metadata": {},
   "outputs": [
    {
     "data": {
      "text/plain": [
       "[[('The', 'DET'),\n",
       "  ('Fulton', 'NOUN'),\n",
       "  ('County', 'NOUN'),\n",
       "  ('Grand', 'ADJ'),\n",
       "  ('Jury', 'NOUN'),\n",
       "  ('said', 'VERB'),\n",
       "  ('Friday', 'NOUN'),\n",
       "  ('an', 'DET'),\n",
       "  ('investigation', 'NOUN'),\n",
       "  ('of', 'ADP'),\n",
       "  (\"Atlanta's\", 'NOUN'),\n",
       "  ('recent', 'ADJ'),\n",
       "  ('primary', 'NOUN'),\n",
       "  ('election', 'NOUN'),\n",
       "  ('produced', 'VERB'),\n",
       "  ('``', '.'),\n",
       "  ('no', 'DET'),\n",
       "  ('evidence', 'NOUN'),\n",
       "  (\"''\", '.'),\n",
       "  ('that', 'ADP'),\n",
       "  ('any', 'DET'),\n",
       "  ('irregularities', 'NOUN'),\n",
       "  ('took', 'VERB'),\n",
       "  ('place', 'NOUN'),\n",
       "  ('.', '.')],\n",
       " [('The', 'DET'),\n",
       "  ('jury', 'NOUN'),\n",
       "  ('further', 'ADV'),\n",
       "  ('said', 'VERB'),\n",
       "  ('in', 'ADP'),\n",
       "  ('term-end', 'NOUN'),\n",
       "  ('presentments', 'NOUN'),\n",
       "  ('that', 'ADP'),\n",
       "  ('the', 'DET'),\n",
       "  ('City', 'NOUN'),\n",
       "  ('Executive', 'ADJ'),\n",
       "  ('Committee', 'NOUN'),\n",
       "  (',', '.'),\n",
       "  ('which', 'DET'),\n",
       "  ('had', 'VERB'),\n",
       "  ('over-all', 'ADJ'),\n",
       "  ('charge', 'NOUN'),\n",
       "  ('of', 'ADP'),\n",
       "  ('the', 'DET'),\n",
       "  ('election', 'NOUN'),\n",
       "  (',', '.'),\n",
       "  ('``', '.'),\n",
       "  ('deserves', 'VERB'),\n",
       "  ('the', 'DET'),\n",
       "  ('praise', 'NOUN'),\n",
       "  ('and', 'CONJ'),\n",
       "  ('thanks', 'NOUN'),\n",
       "  ('of', 'ADP'),\n",
       "  ('the', 'DET'),\n",
       "  ('City', 'NOUN'),\n",
       "  ('of', 'ADP'),\n",
       "  ('Atlanta', 'NOUN'),\n",
       "  (\"''\", '.'),\n",
       "  ('for', 'ADP'),\n",
       "  ('the', 'DET'),\n",
       "  ('manner', 'NOUN'),\n",
       "  ('in', 'ADP'),\n",
       "  ('which', 'DET'),\n",
       "  ('the', 'DET'),\n",
       "  ('election', 'NOUN'),\n",
       "  ('was', 'VERB'),\n",
       "  ('conducted', 'VERB'),\n",
       "  ('.', '.')],\n",
       " [('The', 'DET'),\n",
       "  ('September-October', 'NOUN'),\n",
       "  ('term', 'NOUN'),\n",
       "  ('jury', 'NOUN'),\n",
       "  ('had', 'VERB'),\n",
       "  ('been', 'VERB'),\n",
       "  ('charged', 'VERB'),\n",
       "  ('by', 'ADP'),\n",
       "  ('Fulton', 'NOUN'),\n",
       "  ('Superior', 'ADJ'),\n",
       "  ('Court', 'NOUN'),\n",
       "  ('Judge', 'NOUN'),\n",
       "  ('Durwood', 'NOUN'),\n",
       "  ('Pye', 'NOUN'),\n",
       "  ('to', 'PRT'),\n",
       "  ('investigate', 'VERB'),\n",
       "  ('reports', 'NOUN'),\n",
       "  ('of', 'ADP'),\n",
       "  ('possible', 'ADJ'),\n",
       "  ('``', '.'),\n",
       "  ('irregularities', 'NOUN'),\n",
       "  (\"''\", '.'),\n",
       "  ('in', 'ADP'),\n",
       "  ('the', 'DET'),\n",
       "  ('hard-fought', 'ADJ'),\n",
       "  ('primary', 'NOUN'),\n",
       "  ('which', 'DET'),\n",
       "  ('was', 'VERB'),\n",
       "  ('won', 'VERB'),\n",
       "  ('by', 'ADP'),\n",
       "  ('Mayor-nominate', 'NOUN'),\n",
       "  ('Ivan', 'NOUN'),\n",
       "  ('Allen', 'NOUN'),\n",
       "  ('Jr.', 'NOUN'),\n",
       "  ('.', '.')],\n",
       " [('``', '.'),\n",
       "  ('Only', 'ADV'),\n",
       "  ('a', 'DET'),\n",
       "  ('relative', 'ADJ'),\n",
       "  ('handful', 'NOUN'),\n",
       "  ('of', 'ADP'),\n",
       "  ('such', 'ADJ'),\n",
       "  ('reports', 'NOUN'),\n",
       "  ('was', 'VERB'),\n",
       "  ('received', 'VERB'),\n",
       "  (\"''\", '.'),\n",
       "  (',', '.'),\n",
       "  ('the', 'DET'),\n",
       "  ('jury', 'NOUN'),\n",
       "  ('said', 'VERB'),\n",
       "  (',', '.'),\n",
       "  ('``', '.'),\n",
       "  ('considering', 'ADP'),\n",
       "  ('the', 'DET'),\n",
       "  ('widespread', 'ADJ'),\n",
       "  ('interest', 'NOUN'),\n",
       "  ('in', 'ADP'),\n",
       "  ('the', 'DET'),\n",
       "  ('election', 'NOUN'),\n",
       "  (',', '.'),\n",
       "  ('the', 'DET'),\n",
       "  ('number', 'NOUN'),\n",
       "  ('of', 'ADP'),\n",
       "  ('voters', 'NOUN'),\n",
       "  ('and', 'CONJ'),\n",
       "  ('the', 'DET'),\n",
       "  ('size', 'NOUN'),\n",
       "  ('of', 'ADP'),\n",
       "  ('this', 'DET'),\n",
       "  ('city', 'NOUN'),\n",
       "  (\"''\", '.'),\n",
       "  ('.', '.')],\n",
       " [('The', 'DET'),\n",
       "  ('jury', 'NOUN'),\n",
       "  ('said', 'VERB'),\n",
       "  ('it', 'PRON'),\n",
       "  ('did', 'VERB'),\n",
       "  ('find', 'VERB'),\n",
       "  ('that', 'ADP'),\n",
       "  ('many', 'ADJ'),\n",
       "  ('of', 'ADP'),\n",
       "  (\"Georgia's\", 'NOUN'),\n",
       "  ('registration', 'NOUN'),\n",
       "  ('and', 'CONJ'),\n",
       "  ('election', 'NOUN'),\n",
       "  ('laws', 'NOUN'),\n",
       "  ('``', '.'),\n",
       "  ('are', 'VERB'),\n",
       "  ('outmoded', 'ADJ'),\n",
       "  ('or', 'CONJ'),\n",
       "  ('inadequate', 'ADJ'),\n",
       "  ('and', 'CONJ'),\n",
       "  ('often', 'ADV'),\n",
       "  ('ambiguous', 'ADJ'),\n",
       "  (\"''\", '.'),\n",
       "  ('.', '.')],\n",
       " [('It', 'PRON'),\n",
       "  ('recommended', 'VERB'),\n",
       "  ('that', 'ADP'),\n",
       "  ('Fulton', 'NOUN'),\n",
       "  ('legislators', 'NOUN'),\n",
       "  ('act', 'VERB'),\n",
       "  ('``', '.'),\n",
       "  ('to', 'PRT'),\n",
       "  ('have', 'VERB'),\n",
       "  ('these', 'DET'),\n",
       "  ('laws', 'NOUN'),\n",
       "  ('studied', 'VERB'),\n",
       "  ('and', 'CONJ'),\n",
       "  ('revised', 'VERB'),\n",
       "  ('to', 'ADP'),\n",
       "  ('the', 'DET'),\n",
       "  ('end', 'NOUN'),\n",
       "  ('of', 'ADP'),\n",
       "  ('modernizing', 'VERB'),\n",
       "  ('and', 'CONJ'),\n",
       "  ('improving', 'VERB'),\n",
       "  ('them', 'PRON'),\n",
       "  (\"''\", '.'),\n",
       "  ('.', '.')],\n",
       " [('The', 'DET'),\n",
       "  ('grand', 'ADJ'),\n",
       "  ('jury', 'NOUN'),\n",
       "  ('commented', 'VERB'),\n",
       "  ('on', 'ADP'),\n",
       "  ('a', 'DET'),\n",
       "  ('number', 'NOUN'),\n",
       "  ('of', 'ADP'),\n",
       "  ('other', 'ADJ'),\n",
       "  ('topics', 'NOUN'),\n",
       "  (',', '.'),\n",
       "  ('among', 'ADP'),\n",
       "  ('them', 'PRON'),\n",
       "  ('the', 'DET'),\n",
       "  ('Atlanta', 'NOUN'),\n",
       "  ('and', 'CONJ'),\n",
       "  ('Fulton', 'NOUN'),\n",
       "  ('County', 'NOUN'),\n",
       "  ('purchasing', 'VERB'),\n",
       "  ('departments', 'NOUN'),\n",
       "  ('which', 'DET'),\n",
       "  ('it', 'PRON'),\n",
       "  ('said', 'VERB'),\n",
       "  ('``', '.'),\n",
       "  ('are', 'VERB'),\n",
       "  ('well', 'ADV'),\n",
       "  ('operated', 'VERB'),\n",
       "  ('and', 'CONJ'),\n",
       "  ('follow', 'VERB'),\n",
       "  ('generally', 'ADV'),\n",
       "  ('accepted', 'VERB'),\n",
       "  ('practices', 'NOUN'),\n",
       "  ('which', 'DET'),\n",
       "  ('inure', 'VERB'),\n",
       "  ('to', 'ADP'),\n",
       "  ('the', 'DET'),\n",
       "  ('best', 'ADJ'),\n",
       "  ('interest', 'NOUN'),\n",
       "  ('of', 'ADP'),\n",
       "  ('both', 'DET'),\n",
       "  ('governments', 'NOUN'),\n",
       "  (\"''\", '.'),\n",
       "  ('.', '.')],\n",
       " [('Merger', 'NOUN'), ('proposed', 'VERB')],\n",
       " [('However', 'ADV'),\n",
       "  (',', '.'),\n",
       "  ('the', 'DET'),\n",
       "  ('jury', 'NOUN'),\n",
       "  ('said', 'VERB'),\n",
       "  ('it', 'PRON'),\n",
       "  ('believes', 'VERB'),\n",
       "  ('``', '.'),\n",
       "  ('these', 'DET'),\n",
       "  ('two', 'NUM'),\n",
       "  ('offices', 'NOUN'),\n",
       "  ('should', 'VERB'),\n",
       "  ('be', 'VERB'),\n",
       "  ('combined', 'VERB'),\n",
       "  ('to', 'PRT'),\n",
       "  ('achieve', 'VERB'),\n",
       "  ('greater', 'ADJ'),\n",
       "  ('efficiency', 'NOUN'),\n",
       "  ('and', 'CONJ'),\n",
       "  ('reduce', 'VERB'),\n",
       "  ('the', 'DET'),\n",
       "  ('cost', 'NOUN'),\n",
       "  ('of', 'ADP'),\n",
       "  ('administration', 'NOUN'),\n",
       "  (\"''\", '.'),\n",
       "  ('.', '.')],\n",
       " [('The', 'DET'),\n",
       "  ('City', 'NOUN'),\n",
       "  ('Purchasing', 'VERB'),\n",
       "  ('Department', 'NOUN'),\n",
       "  (',', '.'),\n",
       "  ('the', 'DET'),\n",
       "  ('jury', 'NOUN'),\n",
       "  ('said', 'VERB'),\n",
       "  (',', '.'),\n",
       "  ('``', '.'),\n",
       "  ('is', 'VERB'),\n",
       "  ('lacking', 'VERB'),\n",
       "  ('in', 'ADP'),\n",
       "  ('experienced', 'VERB'),\n",
       "  ('clerical', 'ADJ'),\n",
       "  ('personnel', 'NOUN'),\n",
       "  ('as', 'ADP'),\n",
       "  ('a', 'DET'),\n",
       "  ('result', 'NOUN'),\n",
       "  ('of', 'ADP'),\n",
       "  ('city', 'NOUN'),\n",
       "  ('personnel', 'NOUN'),\n",
       "  ('policies', 'NOUN'),\n",
       "  (\"''\", '.'),\n",
       "  ('.', '.')],\n",
       " [('It', 'PRON'),\n",
       "  ('urged', 'VERB'),\n",
       "  ('that', 'ADP'),\n",
       "  ('the', 'DET'),\n",
       "  ('city', 'NOUN'),\n",
       "  ('``', '.'),\n",
       "  ('take', 'VERB'),\n",
       "  ('steps', 'NOUN'),\n",
       "  ('to', 'PRT'),\n",
       "  ('remedy', 'VERB'),\n",
       "  (\"''\", '.'),\n",
       "  ('this', 'DET'),\n",
       "  ('problem', 'NOUN'),\n",
       "  ('.', '.')]]"
      ]
     },
     "execution_count": 21,
     "metadata": {},
     "output_type": "execute_result"
    }
   ],
   "source": [
    "brown_news_tagged[0:11] "
   ]
  },
  {
   "cell_type": "code",
   "execution_count": 22,
   "metadata": {},
   "outputs": [
    {
     "name": "stdout",
     "output_type": "stream",
     "text": [
      "[('The', 'NOUN'), ('Fulton', 'NOUN'), ('County', 'NOUN'), ('Grand', 'NOUN'), ('Jury', 'NOUN'), ('said', 'NOUN'), ('Friday', 'NOUN'), ('an', 'NOUN'), ('investigation', 'NOUN'), ('of', 'NOUN'), (\"Atlanta's\", 'NOUN'), ('recent', 'NOUN'), ('primary', 'NOUN'), ('election', 'NOUN'), ('produced', 'NOUN'), ('``', 'NOUN'), ('no', 'NOUN'), ('evidence', 'NOUN'), (\"''\", 'NOUN'), ('that', 'NOUN'), ('any', 'NOUN'), ('irregularities', 'NOUN'), ('took', 'NOUN'), ('place', 'NOUN'), ('.', 'NOUN')]\n"
     ]
    }
   ],
   "source": [
    "# A default tagger assigns the same tag to all words\n",
    "from nltk import DefaultTagger\n",
    "default_tagger = DefaultTagger('NOUN')\n",
    "print(default_tagger.tag(test_sent))"
   ]
  },
  {
   "cell_type": "code",
   "execution_count": 23,
   "metadata": {},
   "outputs": [
    {
     "name": "stdout",
     "output_type": "stream",
     "text": [
      "Accuracy: 31.8%\n"
     ]
    }
   ],
   "source": [
    "print('Accuracy: %4.1f%%' % (100.0 * default_tagger.evaluate(brown_test)))"
   ]
  },
  {
   "cell_type": "code",
   "execution_count": 24,
   "metadata": {},
   "outputs": [
    {
     "data": {
      "text/plain": [
       "[('The', 'DET'),\n",
       " ('Fulton', None),\n",
       " ('County', 'NOUN'),\n",
       " ('Grand', 'ADJ'),\n",
       " ('Jury', 'NOUN'),\n",
       " ('said', 'VERB'),\n",
       " ('Friday', 'NOUN'),\n",
       " ('an', 'DET'),\n",
       " ('investigation', 'NOUN'),\n",
       " ('of', 'ADP'),\n",
       " (\"Atlanta's\", 'NOUN'),\n",
       " ('recent', 'ADJ'),\n",
       " ('primary', 'NOUN'),\n",
       " ('election', 'NOUN'),\n",
       " ('produced', 'VERB'),\n",
       " ('``', '.'),\n",
       " ('no', 'DET'),\n",
       " ('evidence', 'NOUN'),\n",
       " (\"''\", '.'),\n",
       " ('that', 'ADP'),\n",
       " ('any', 'DET'),\n",
       " ('irregularities', None),\n",
       " ('took', 'VERB'),\n",
       " ('place', 'NOUN'),\n",
       " ('.', '.')]"
      ]
     },
     "execution_count": 24,
     "metadata": {},
     "output_type": "execute_result"
    }
   ],
   "source": [
    "from nltk import UnigramTagger\n",
    "\n",
    "brown_news_tagged = brown.tagged_sents(categories='news', tagset='universal')\n",
    "brown_train = brown_news_tagged[100:]\n",
    "brown_test = brown_news_tagged[:100]\n",
    "\n",
    "# Train the unigram model\n",
    "unigram_tagger = UnigramTagger(brown_train)\n",
    "\n",
    "# Test it on a single sentence\n",
    "unigram_tagger.tag(untag(brown_test[0]))"
   ]
  },
  {
   "cell_type": "code",
   "execution_count": 25,
   "metadata": {},
   "outputs": [
    {
     "name": "stdout",
     "output_type": "stream",
     "text": [
      "Unigram tagger accuracy: 88.9%\n"
     ]
    }
   ],
   "source": [
    "print('Unigram tagger accuracy: %4.1f%%' % ( 100.0 * unigram_tagger.evaluate(brown_test)))"
   ]
  },
  {
   "cell_type": "markdown",
   "metadata": {},
   "source": [
    "Note that the unigram tagger leaves some words tagged as 'None' -- these are **unknown words**, words that were not observed in the training dataset. This means we may used a hybrid approach the tag words labeled as 'None'"
   ]
  },
  {
   "cell_type": "code",
   "execution_count": 26,
   "metadata": {},
   "outputs": [
    {
     "name": "stdout",
     "output_type": "stream",
     "text": [
      "Unigram tagger with backoff accuracy: 94.5%\n"
     ]
    }
   ],
   "source": [
    "nn_tagger = DefaultTagger('NOUN')\n",
    "ut2 = UnigramTagger(brown_train, backoff=nn_tagger)\n",
    "print('Unigram tagger with backoff accuracy: %4.1f%%' % ( 100.0 * ut2.evaluate(brown_test)))"
   ]
  },
  {
   "cell_type": "markdown",
   "metadata": {},
   "source": [
    "## Using Morphological Clues\n",
    "\n",
    "The nltk.RegexpTagger can be used to recognize specific regular expressions in words."
   ]
  },
  {
   "cell_type": "code",
   "execution_count": 27,
   "metadata": {},
   "outputs": [
    {
     "name": "stdout",
     "output_type": "stream",
     "text": [
      "Regexp accuracy 48.2%\n"
     ]
    }
   ],
   "source": [
    "from nltk import RegexpTagger\n",
    "\n",
    "regexp_tagger = RegexpTagger(\n",
    "     [(r'^-?[0-9]+(.[0-9]+)?$', 'NUM'),   # cardinal numbers\n",
    "      (r'(The|the|A|a|An|an)$', 'DET'),   # articles\n",
    "      (r'.*able$', 'ADJ'),                # adjectives\n",
    "      (r'.*ness$', 'NOUN'),               # nouns formed from adjectives\n",
    "      (r'.*ly$', 'ADV'),                  # adverbs\n",
    "      (r'.*s$', 'NOUN'),                  # plural nouns\n",
    "      (r'.*ing$', 'VERB'),                # gerunds\n",
    "      (r'.*ed$', 'VERB'),                 # past tense verbs\n",
    "      (r'.*', 'NOUN')                     # nouns (default)\n",
    "])\n",
    "\n",
    "print('Regexp accuracy %4.1f%%' % (100.0 * regexp_tagger.evaluate(brown_test)))"
   ]
  },
  {
   "cell_type": "code",
   "execution_count": 28,
   "metadata": {},
   "outputs": [
    {
     "name": "stdout",
     "output_type": "stream",
     "text": [
      "Unigram tagger with backoff accuracy: 95.4%\n"
     ]
    }
   ],
   "source": [
    "ut2 = UnigramTagger(brown_train, backoff=regexp_tagger)\n",
    "print('Unigram tagger with backoff accuracy: %4.1f%%' % ( 100.0 * ut2.evaluate(brown_test)))"
   ]
  },
  {
   "cell_type": "markdown",
   "metadata": {},
   "source": [
    "## WordNet\n",
    "\n",
    "[WordNet](https://wordnet.princeton.edu/) is a [lexical database] for the [English language]. It\n",
    "groups English [words] into sets of [synonyms] called *[synsets]*,\n",
    "provides short definitions and usage examples, and records a number of\n",
    "relations among these synonym sets or their members. WordNet can thus be\n",
    "seen as a combination of [dictionary] and [thesaurus]. While it is\n",
    "accessible to human users via a [web browser],[^2] its primary use is in\n",
    "automatic [text analysis] and [artificial intelligence] applications.\n",
    "The [database] and [software] tools have been released under a [BSD\n",
    "style license] and are freely available for download from the WordNet\n",
    "website. Both the lexicographic data (*lexicographer files*) and the\n",
    "compiler (*called grind*) for producing the distributed database are\n",
    "available.\n",
    "\n",
    "WordNet includes the lexical categories [nouns], [verbs], [adjectives]\n",
    "and [adverbs] but ignores [prepositions], [determiners] and other\n",
    "function words.\n",
    "\n",
    "Words from the same lexical category that are roughly synonymous are\n",
    "grouped into [synsets]. Synsets include simplex words as well as\n",
    "[collocations] like “eat out” and “car pool.” The different senses of a\n",
    "[polysemous] word form are assigned to different synsets. The meaning of\n",
    "a synset is further clarified with a short defining *gloss* and one or\n",
    "more usage examples. An example adjective synset is:\n",
    "\n",
    ":   good, right, ripe – (most suitable or right for a particular\n",
    "    purpose; “a good time to plant tomatoes”; “the right time to act”;\n",
    "    “the time is ripe for great sociological changes”)\n",
    "\n",
    "All synsets are connected to other synsets by means of semantic\n",
    "relations. These relations, which are not all shared by all lexical\n",
    "categories, include:\n",
    "\n",
    "-   [Nouns]\n",
    "    -   *[hypernyms]*: *Y* is a hypernym of *X* if every *X* is a (kind\n",
    "        of) *Y* (*canine* is a hypernym of *[dog]*)\n",
    "    -   *[hyponyms]*: *Y* is a hyponym of *X* if every *Y* is a (kind\n",
    "        of) *X* (*dog* is a hyponym of *canine*)\n",
    "    -   *coordinate terms*: *Y* is a coordinate term of *X* if *X* and\n",
    "        *Y* share a hypernym (*wolf* is a coordinate term of *dog*, and\n",
    "        *dog* is a coordinate term of *wolf*)\n",
    "    -   *[meronym]*: *Y* is a meronym of *X* if *Y* is a part of *X*\n",
    "        (*window* is a meronym of *building*)\n",
    "    -   *[holonym]*: *Y* is a holonym of *X* if *X* is a part of *Y*\n",
    "        (*building* is a holonym of *window*)\n",
    "-   [Verbs]\n",
    "    -   *hypernym*: the verb *Y* is a hypernym of the verb *X* if the\n",
    "        activity *X* is a (kind of) *Y* (*to perceive* is an hypernym of\n",
    "        *to listen*)\n",
    "    -   *[troponym]*: the verb *Y* is a troponym of the verb *X* if the\n",
    "        activity *Y* is doing *X* in some manner (*to lisp* is a\n",
    "        troponym of *to talk*)\n",
    "    -   *[entailment]*: the verb *Y* is entailed by *X* if by doing *X*\n",
    "        you must be doing *Y* (*to sleep* is entailed by *to snore*)\n",
    "    -   *coordinate terms*: those verbs sharing a common hypernym (*to\n",
    "        lisp* and *to yell*)\n",
    "\n",
    "These semantic relations hold among all members of the linked synsets.\n",
    "Individual synset members (words) can also be connected with lexical\n",
    "relations. For example, (one sense of) the noun “director” is linked to\n",
    "(one sense of) the verb “direct” from which it is derived via a\n",
    "“morphosemantic” link.\n",
    "\n",
    "The morphology functions of the software distributed with the database\n",
    "try to deduce the [lemma] or [stem] form of a [word] from the user's\n",
    "input. Irregular forms are stored in a list, and looking up “ate” will\n",
    "return “eat,” for example."
   ]
  },
  {
   "cell_type": "code",
   "execution_count": 29,
   "metadata": {},
   "outputs": [
    {
     "name": "stdout",
     "output_type": "stream",
     "text": [
      "Synset('house.n.01') a dwelling that serves as living quarters for one or more families\n",
      "Synset('firm.n.01') the members of a business organization that owns or operates one or more establishments\n",
      "Synset('house.n.03') the members of a religious community living together\n",
      "Synset('house.n.04') the audience gathered together in a theatre or cinema\n",
      "Synset('house.n.05') an official assembly having legislative powers\n",
      "Synset('house.n.06') aristocratic family line\n",
      "Synset('house.n.07') play in which children take the roles of father or mother or children and pretend to interact like adults\n",
      "Synset('sign_of_the_zodiac.n.01') (astrology) one of 12 equal areas into which the zodiac is divided\n",
      "Synset('house.n.09') the management of a gambling house or casino\n",
      "Synset('family.n.01') a social unit living together\n",
      "Synset('theater.n.01') a building where theatrical performances or motion-picture shows can be presented\n",
      "Synset('house.n.12') a building in which something is sheltered or located\n",
      "Synset('house.v.01') contain or cover\n",
      "Synset('house.v.02') provide housing for\n"
     ]
    }
   ],
   "source": [
    "from nltk.corpus import wordnet as wn\n",
    "for sset in wn.synsets('house'):\n",
    "    print(sset, sset.definition())"
   ]
  },
  {
   "cell_type": "code",
   "execution_count": 30,
   "metadata": {},
   "outputs": [
    {
     "name": "stdout",
     "output_type": "stream",
     "text": [
      "Synset('theater.n.01') a building where theatrical performances or motion-picture shows can be presented\n"
     ]
    }
   ],
   "source": [
    "from nltk.wsd import lesk\n",
    "sense = lesk(word_tokenize(\"Find all tickets for all House of Blues Boston upcoming shows.\"),'house')\n",
    "print (sense, sense.definition())"
   ]
  },
  {
   "cell_type": "code",
   "execution_count": 31,
   "metadata": {},
   "outputs": [
    {
     "name": "stdout",
     "output_type": "stream",
     "text": [
      "Synset('house.n.07') play in which children take the roles of father or mother or children and pretend to interact like adults\n"
     ]
    }
   ],
   "source": [
    "sense = lesk(word_tokenize(\"The U.S. House of Representatives took its first step toward unwinding national banking regulations that were enacted in the wake of the 2008 financial crisis.\"),'house')\n",
    "print (sense, sense.definition())"
   ]
  },
  {
   "cell_type": "code",
   "execution_count": 32,
   "metadata": {
    "collapsed": true
   },
   "outputs": [],
   "source": [
    "# Czernobog is prolly my fave character now. Not because he was also one of my fave chars in the first season of Prison Break. #AmericanGods\n",
    "sense = lesk(word_tokenize(\"Czernobog is prolly my fave character now. Not because he was also one of my fave chars in the first season of Prison Break. #AmericanGods.\"),'Prison Break')\n",
    "if sense is not None:\n",
    "  print (sense, sense.definition())\n"
   ]
  },
  {
   "cell_type": "code",
   "execution_count": 33,
   "metadata": {},
   "outputs": [
    {
     "data": {
      "text/plain": [
       "['you',\n",
       " 'have',\n",
       " 'brains',\n",
       " 'in',\n",
       " 'your',\n",
       " 'head',\n",
       " '.',\n",
       " 'you',\n",
       " 'have',\n",
       " 'feet',\n",
       " 'in',\n",
       " 'your',\n",
       " 'shoes',\n",
       " '.',\n",
       " 'you',\n",
       " 'can',\n",
       " 'steer',\n",
       " 'yourself',\n",
       " 'any',\n",
       " 'direction',\n",
       " 'you',\n",
       " 'choose',\n",
       " '.',\n",
       " 'you',\n",
       " \"'re\",\n",
       " 'on',\n",
       " 'your',\n",
       " 'own',\n",
       " '.',\n",
       " 'and',\n",
       " 'you',\n",
       " 'know',\n",
       " 'what']"
      ]
     },
     "execution_count": 33,
     "metadata": {},
     "output_type": "execute_result"
    }
   ],
   "source": [
    "seuss_words = word_tokenize(seuss_text.lower())\n",
    "seuss_words[:33]"
   ]
  },
  {
   "cell_type": "code",
   "execution_count": 34,
   "metadata": {},
   "outputs": [
    {
     "data": {
      "text/plain": [
       "['brains',\n",
       " 'head',\n",
       " 'feet',\n",
       " 'shoes',\n",
       " 'steer',\n",
       " 'direction',\n",
       " 'choose',\n",
       " \"'re\",\n",
       " 'know',\n",
       " 'know',\n",
       " 'one',\n",
       " \"'ll\",\n",
       " 'decide',\n",
       " 'go',\n",
       " '...',\n",
       " 'today',\n",
       " 'truer',\n",
       " 'true',\n",
       " 'one',\n",
       " 'alive',\n",
       " 'youer',\n",
       " 'dr.',\n",
       " 'seuss',\n",
       " \"n't\",\n",
       " 'cry',\n",
       " \"'s\",\n",
       " 'smile',\n",
       " 'happened',\n",
       " 'dr.',\n",
       " 'seuss',\n",
       " 'unless',\n",
       " 'someone',\n",
       " 'like']"
      ]
     },
     "execution_count": 34,
     "metadata": {},
     "output_type": "execute_result"
    }
   ],
   "source": [
    "seuss_words=[word for word in seuss_words if word not in my_stopwords]\n",
    "seuss_words[:33]"
   ]
  },
  {
   "cell_type": "code",
   "execution_count": 35,
   "metadata": {},
   "outputs": [
    {
     "name": "stdout",
     "output_type": "stream",
     "text": [
      "brains\n"
     ]
    },
    {
     "data": {
      "text/plain": [
       "[Synset('brain.n.01'),\n",
       " Synset('brain.n.02'),\n",
       " Synset('mind.n.01'),\n",
       " Synset('genius.n.01'),\n",
       " Synset('brain.n.05'),\n",
       " Synset('brain.v.01'),\n",
       " Synset('brain.v.02')]"
      ]
     },
     "execution_count": 35,
     "metadata": {},
     "output_type": "execute_result"
    }
   ],
   "source": [
    "print (seuss_words[0])\n",
    "ss = wn.synsets(seuss_words[0])\n",
    "ss"
   ]
  },
  {
   "cell_type": "code",
   "execution_count": 36,
   "metadata": {},
   "outputs": [
    {
     "data": {
      "text/plain": [
       "<bound method Synset.definition of Synset('brain.n.01')>"
      ]
     },
     "execution_count": 36,
     "metadata": {},
     "output_type": "execute_result"
    }
   ],
   "source": [
    "ssw=ss[0]\n",
    "ssw.definition"
   ]
  },
  {
   "cell_type": "code",
   "execution_count": 37,
   "metadata": {},
   "outputs": [
    {
     "data": {
      "text/plain": [
       "<bound method Synset.definition of Synset('cell.n.02')>"
      ]
     },
     "execution_count": 37,
     "metadata": {},
     "output_type": "execute_result"
    }
   ],
   "source": [
    "wn.synsets('cell')[1].definition"
   ]
  },
  {
   "cell_type": "code",
   "execution_count": 38,
   "metadata": {},
   "outputs": [
    {
     "data": {
      "text/plain": [
       "[]"
      ]
     },
     "execution_count": 38,
     "metadata": {},
     "output_type": "execute_result"
    }
   ],
   "source": [
    "ssw.topic_domains()"
   ]
  },
  {
   "cell_type": "code",
   "execution_count": 39,
   "metadata": {
    "collapsed": true
   },
   "outputs": [],
   "source": [
    "lem = ssw.lemmas()[0]"
   ]
  },
  {
   "cell_type": "code",
   "execution_count": 40,
   "metadata": {},
   "outputs": [
    {
     "data": {
      "text/plain": [
       "'brain'"
      ]
     },
     "execution_count": 40,
     "metadata": {},
     "output_type": "execute_result"
    }
   ],
   "source": [
    "lem.name()"
   ]
  },
  {
   "cell_type": "markdown",
   "metadata": {
    "collapsed": true
   },
   "source": [
    "## Counting"
   ]
  },
  {
   "cell_type": "code",
   "execution_count": 41,
   "metadata": {},
   "outputs": [
    {
     "data": {
      "text/plain": [
       "FreqDist({\"'cause\": 1,\n",
       "          \"'ll\": 42,\n",
       "          \"'m\": 2,\n",
       "          \"'re\": 14,\n",
       "          \"'s\": 8,\n",
       "          \"'ve\": 1,\n",
       "          '--': 19,\n",
       "          '...': 5,\n",
       "          '3/4': 2,\n",
       "          '98': 2,\n",
       "          'across': 1,\n",
       "          'act': 3,\n",
       "          'afraid': 1,\n",
       "          'ahead': 1,\n",
       "          'air': 1,\n",
       "          'ali': 1,\n",
       "          'alive': 1,\n",
       "          'allen': 1,\n",
       "          'alone': 1,\n",
       "          'along': 2,\n",
       "          'already': 1,\n",
       "          'answers': 1,\n",
       "          'arms': 1,\n",
       "          'away': 1,\n",
       "          'awful': 1,\n",
       "          'balancing': 3,\n",
       "          'ball': 2,\n",
       "          'bat': 1,\n",
       "          'behind': 3,\n",
       "          'best': 2,\n",
       "          'better': 1,\n",
       "          'big': 1,\n",
       "          'birds': 1,\n",
       "          'bixby': 1,\n",
       "          'book': 1,\n",
       "          'bought': 1,\n",
       "          'brains': 4,\n",
       "          'brainy': 2,\n",
       "          'bray': 1,\n",
       "          'break-necking': 1,\n",
       "          'buxbaum': 1,\n",
       "          'ca': 1,\n",
       "          'care': 3,\n",
       "          'cares': 1,\n",
       "          'chance': 1,\n",
       "          'child': 1,\n",
       "          'chin': 1,\n",
       "          'choose': 3,\n",
       "          'come': 3,\n",
       "          'complicated': 1,\n",
       "          'confused': 1,\n",
       "          'congratulations': 1,\n",
       "          'could': 1,\n",
       "          'course': 2,\n",
       "          'creatures': 1,\n",
       "          'creek': 1,\n",
       "          'cry': 1,\n",
       "          'dare': 2,\n",
       "          'darked': 2,\n",
       "          'day': 4,\n",
       "          'decide': 2,\n",
       "          'deft': 1,\n",
       "          'dexterous': 1,\n",
       "          'direction': 3,\n",
       "          'done': 3,\n",
       "          'dr.': 39,\n",
       "          'easily': 1,\n",
       "          'elbow': 1,\n",
       "          'everyone': 1,\n",
       "          'except': 3,\n",
       "          'fame': 2,\n",
       "          'famous': 4,\n",
       "          'fear': 1,\n",
       "          'feet': 4,\n",
       "          'find': 1,\n",
       "          'fly': 1,\n",
       "          'foot': 1,\n",
       "          'footsy': 2,\n",
       "          'forget': 1,\n",
       "          'free': 1,\n",
       "          'frequently': 1,\n",
       "          'frightening': 1,\n",
       "          'full': 2,\n",
       "          'fun': 5,\n",
       "          'games': 4,\n",
       "          'gang': 1,\n",
       "          'get': 8,\n",
       "          'go': 32,\n",
       "          'going': 2,\n",
       "          'good': 2,\n",
       "          'great': 9,\n",
       "          'grind': 1,\n",
       "          'guaranteed': 3,\n",
       "          'happen': 3,\n",
       "          'happened': 1,\n",
       "          'happening': 3,\n",
       "          'head': 4,\n",
       "          'headed': 1,\n",
       "          'heard': 1,\n",
       "          'hither': 1,\n",
       "          'indeed': 3,\n",
       "          'kid': 3,\n",
       "          'kind': 1,\n",
       "          'know': 6,\n",
       "          'lag': 1,\n",
       "          'lead': 1,\n",
       "          'leak': 1,\n",
       "          'learn': 1,\n",
       "          'left': 1,\n",
       "          'life': 3,\n",
       "          'lighted': 1,\n",
       "          'like': 2,\n",
       "          'lonely': 1,\n",
       "          'long': 1,\n",
       "          'lose': 1,\n",
       "          'lot': 1,\n",
       "          'magical': 2,\n",
       "          'make': 2,\n",
       "          'many': 2,\n",
       "          'marked': 1,\n",
       "          'matter': 1,\n",
       "          'may': 4,\n",
       "          'maybe': 1,\n",
       "          'meet': 1,\n",
       "          'miles': 1,\n",
       "          'mix': 1,\n",
       "          'mixed': 2,\n",
       "          'mordecai': 1,\n",
       "          'mostly': 2,\n",
       "          'mountain': 3,\n",
       "          'mountains': 3,\n",
       "          'move': 3,\n",
       "          'much': 4,\n",
       "          \"n't\": 14,\n",
       "          'name': 1,\n",
       "          'never': 4,\n",
       "          'not-so-good': 1,\n",
       "          'nothing': 1,\n",
       "          \"o'shea\": 1,\n",
       "          'often': 1,\n",
       "          'oh': 23,\n",
       "          'old': 1,\n",
       "          'one': 4,\n",
       "          'onward': 1,\n",
       "          'open': 1,\n",
       "          'opener': 1,\n",
       "          'pace': 1,\n",
       "          'pants': 1,\n",
       "          'pass': 1,\n",
       "          'people': 2,\n",
       "          'percent': 3,\n",
       "          'person': 2,\n",
       "          'pick': 1,\n",
       "          'place': 4,\n",
       "          'places': 26,\n",
       "          'play': 2,\n",
       "          'points': 2,\n",
       "          'questions': 1,\n",
       "          'race': 1,\n",
       "          'read': 2,\n",
       "          'ready': 1,\n",
       "          'remember': 3,\n",
       "          'rest': 1,\n",
       "          'right': 4,\n",
       "          'road': 1,\n",
       "          'roads': 1,\n",
       "          'say': 1,\n",
       "          'scare': 2,\n",
       "          'scored': 2,\n",
       "          'see': 1,\n",
       "          'seuss': 39,\n",
       "          'shoes': 4,\n",
       "          'simple': 1,\n",
       "          'slump': 1,\n",
       "          'small': 1,\n",
       "          'smart': 1,\n",
       "          'smile': 1,\n",
       "          'sneakers': 1,\n",
       "          'someone': 1,\n",
       "          'sometimes': 4,\n",
       "          'soon': 1,\n",
       "          'sore': 1,\n",
       "          'space': 1,\n",
       "          'speed': 1,\n",
       "          'sprain': 1,\n",
       "          'start': 5,\n",
       "          'stay': 2,\n",
       "          'steer': 3,\n",
       "          'step': 6,\n",
       "          'stew': 2,\n",
       "          'strange': 1,\n",
       "          'street': 1,\n",
       "          'streets': 1,\n",
       "          'succeed': 3,\n",
       "          'sure': 3,\n",
       "          'tact': 3,\n",
       "          'take': 1,\n",
       "          'things': 10,\n",
       "          'though': 1,\n",
       "          'times': 1,\n",
       "          'today': 5,\n",
       "          'top': 1,\n",
       "          'toward': 1,\n",
       "          'troubles': 3,\n",
       "          'true': 1,\n",
       "          'truer': 1,\n",
       "          'try': 2,\n",
       "          'turtles': 3,\n",
       "          'tv': 2,\n",
       "          'un-slumping': 1,\n",
       "          'unless': 1,\n",
       "          'useless': 1,\n",
       "          'van': 1,\n",
       "          'wacky': 1,\n",
       "          'waiting': 4,\n",
       "          'want': 1,\n",
       "          'watching': 2,\n",
       "          'way': 3,\n",
       "          'weirdish': 1,\n",
       "          'wherever': 2,\n",
       "          'whole': 3,\n",
       "          'wide': 2,\n",
       "          'wiggled': 1,\n",
       "          'wild': 2,\n",
       "          'win': 4,\n",
       "          'windows': 1,\n",
       "          'winner': 2,\n",
       "          'winning-est': 2,\n",
       "          'wo': 4,\n",
       "          \"won't..\": 1,\n",
       "          'world': 1,\n",
       "          'worry': 2,\n",
       "          'yes': 3,\n",
       "          'yon': 1,\n",
       "          'youer': 1})"
      ]
     },
     "execution_count": 41,
     "metadata": {},
     "output_type": "execute_result"
    }
   ],
   "source": [
    "from nltk.probability import FreqDist\n",
    "counts = FreqDist(seuss_words)\n",
    "counts"
   ]
  },
  {
   "cell_type": "code",
   "execution_count": 42,
   "metadata": {},
   "outputs": [
    {
     "data": {
      "text/plain": [
       "[\"'ll\", 'dr.', 'seuss', 'go', 'places', 'oh', '--', \"'re\", \"n't\"]"
      ]
     },
     "execution_count": 42,
     "metadata": {},
     "output_type": "execute_result"
    }
   ],
   "source": [
    "from heapq import nlargest\n",
    "nlargest(9, counts, key=counts.get)"
   ]
  },
  {
   "cell_type": "code",
   "execution_count": 43,
   "metadata": {
    "scrolled": true
   },
   "outputs": [
    {
     "name": "stdout",
     "output_type": "stream",
     "text": [
      "Corpus has 235 word types and 680 word counts for a lexical diversity of 2.894\n"
     ]
    }
   ],
   "source": [
    "vocab   = len(counts.keys())\n",
    "words   = sum(counts.values())\n",
    "lexdiv  = float(words) / float(vocab)\n",
    "\n",
    "print (\"Corpus has %i word types and %i word counts for a lexical diversity of %0.3f\" % (vocab, words, lexdiv))"
   ]
  },
  {
   "cell_type": "code",
   "execution_count": 44,
   "metadata": {},
   "outputs": [
    {
     "data": {
      "text/plain": [
       "[(\"'ll\", 42),\n",
       " ('dr.', 39),\n",
       " ('seuss', 39),\n",
       " ('go', 32),\n",
       " ('places', 26),\n",
       " ('oh', 23),\n",
       " ('--', 19),\n",
       " (\"'re\", 14),\n",
       " (\"n't\", 14),\n",
       " ('things', 10),\n",
       " ('great', 9),\n",
       " (\"'s\", 8),\n",
       " ('get', 8),\n",
       " ('know', 6),\n",
       " ('step', 6),\n",
       " ('...', 5),\n",
       " ('today', 5),\n",
       " ('start', 5),\n",
       " ('fun', 5),\n",
       " ('brains', 4),\n",
       " ('head', 4),\n",
       " ('feet', 4),\n",
       " ('shoes', 4),\n",
       " ('one', 4),\n",
       " ('day', 4),\n",
       " ('waiting', 4),\n",
       " ('never', 4),\n",
       " ('sometimes', 4),\n",
       " ('may', 4),\n",
       " ('right', 4),\n",
       " ('games', 4),\n",
       " ('much', 4),\n",
       " ('wo', 4)]"
      ]
     },
     "execution_count": 44,
     "metadata": {},
     "output_type": "execute_result"
    }
   ],
   "source": [
    "counts.most_common(33)"
   ]
  },
  {
   "cell_type": "code",
   "execution_count": 45,
   "metadata": {},
   "outputs": [
    {
     "data": {
      "text/plain": [
       "0.0058823529411764705"
      ]
     },
     "execution_count": 45,
     "metadata": {},
     "output_type": "execute_result"
    }
   ],
   "source": [
    "counts.freq('brains')"
   ]
  },
  {
   "cell_type": "code",
   "execution_count": 46,
   "metadata": {},
   "outputs": [
    {
     "data": {
      "image/png": "[encoded data removed]",
      "text/plain": [
       "<matplotlib.figure.Figure at 0x1265d8198>"
      ]
     },
     "metadata": {},
     "output_type": "display_data"
    }
   ],
   "source": [
    "counts.plot(33, cumulative=False)"
   ]
  },
  {
   "cell_type": "markdown",
   "metadata": {},
   "source": [
    "### NLTK test datasets\n",
    "\n",
    "nltk.book contains a set of example texts.  These are large.\n",
    "\n",
    "* Text1: Moby Dick by Herman Melville 1851\n",
    "* Text2: Sense and Sensibility by Jane Austen 1811\n",
    "* Text3: The Book of Genesis\n",
    "* Text4: Inaugural Address Corpus\n",
    "* Text5: Chat Corpus\n",
    "* Text6: Monty Python and the Holy Grail\n",
    "* Text7: Wall Street Journal\n",
    "* Text8: Personals Corpus\n",
    "* Text9: The Man Who Was Thursday by G . K . Chesterton 1908\n"
   ]
  },
  {
   "cell_type": "code",
   "execution_count": 47,
   "metadata": {
    "scrolled": true
   },
   "outputs": [
    {
     "name": "stdout",
     "output_type": "stream",
     "text": [
      "Displaying 11 of 11 matches:\n",
      "lmer , you shall see a monstrous pretty girl .\" He imme\n",
      "is to marry him . I am monstrous glad of it , for then \n",
      "your sister . She is a monstrous lucky girl to get him \n",
      "ll like them . Lucy is monstrous pretty , and so good h\n",
      "\" I am sure I shall be monstrous glad of Miss Marianne \n",
      " cheerfulness , \" I am monstrous glad to see you -- sor\n",
      "as it turns out , I am monstrous glad there was never a\n",
      "y ! for they say he is monstrous fond of her , as well \n",
      "t she should .\" \" I am monstrous glad of it . Good grac\n",
      " kind . So then he was monstrous happy , and talked on \n",
      "el people . He makes a monstrous deal of money , and th\n"
     ]
    }
   ],
   "source": [
    "austen = nltk.text.Text(nltk.corpus.gutenberg.words('austen-sense.txt'))\n",
    "austen.concordance(\"monstrous\", 55, lines=11)"
   ]
  },
  {
   "cell_type": "markdown",
   "metadata": {},
   "source": [
    "The corcordance function performs a search for the given token and then also provides the surrounding context.\n",
    "\n",
    "Jane Austen: Sense and Sensibility\n",
    "Chapter 19\n",
    "\n",
    "\"Here comes Marianne,\" cried Sir John. \"Now, Palmer, you shall see a monstrous pretty girl.\"\n",
    "\n",
    "He immediately went into the passage, opened the front door, and ushered her in himself. Mrs. Jennings asked her, as soon as she appeared, if she had not been to Allenham; and Mrs. Palmer laughed so heartily at the question, as to show she understood it. Mr. Palmer looked up on her entering the room, stared at her some minutes, and then returned to his newspaper. Mrs. Palmer's eye was now caught by the drawings which hung round the room. She got up to examine them.\n"
   ]
  },
  {
   "cell_type": "code",
   "execution_count": 48,
   "metadata": {},
   "outputs": [
    {
     "name": "stdout",
     "output_type": "stream",
     "text": [
      "very so exceedingly heartily a as good great extremely remarkably\n",
      "sweet vast amazingly\n"
     ]
    }
   ],
   "source": [
    "austen.similar(\"monstrous\")"
   ]
  },
  {
   "cell_type": "markdown",
   "metadata": {},
   "source": [
    "Last update October 1, 2017\n",
    "\n",
    "The text is released under the [CC-BY-NC-ND license](https://creativecommons.org/licenses/by-nc-nd/3.0/us/legalcode), and code is released under the [MIT license](https://opensource.org/licenses/MIT)."
   ]
  }
 ],
 "metadata": {
  "kernelspec": {
   "display_name": "Python 3",
   "language": "python",
   "name": "python3"
  },
  "language_info": {
   "codemirror_mode": {
    "name": "ipython",
    "version": 3
   },
   "file_extension": ".py",
   "mimetype": "text/x-python",
   "name": "python",
   "nbconvert_exporter": "python",
   "pygments_lexer": "ipython3",
   "version": "3.6.1"
  }
 },
 "nbformat": 4,
 "nbformat_minor": 2
}
