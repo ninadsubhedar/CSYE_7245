{
 "cells": [
  {
   "cell_type": "markdown",
   "metadata": {},
   "source": [
    "# Portfolio"
   ]
  },
  {
   "cell_type": "markdown",
   "metadata": {},
   "source": [
    "The Portfolio is a techinical blog intended to _teach_ another NEU Master's student how to _implement_ your project as well as your logic and reasoning behind the project.  \n",
    "\n",
    "_Did I explain my idea clearly? (10 Points)_\n",
    "How effective are you at explaining what you are doing?\n",
    "\n",
    "_Did I explain my evaluation clearly?(10 Points) _\n",
    "Just saying \"accuracy\" is not a clear explaination of an evaluation scheme. Clearly explain the evaluation scheme.  \n",
    "\n",
    "_It MUST run. (10 Points)_ \n",
    "\n",
    "_What code is yours and what have you adapted? (10 Points)_    \n",
    "You must explain what code is yours and what you have done that is different. Failure to cite ANY code will result in a zero for this section.\n",
    "\n",
    "If you are doing a Kaggle competition you will get zero points on this if you don't explain exactly how your project is significantly different from the existing kernels. You also  MUST include where your project would score in the competition. \n",
    "\n",
    "_Did I explain my code clearly? (10 Points)_\n",
    "Your code review score will be scaled to a range of 0 to 10 and be used for this score.  \n",
    "\n",
    "_Did I explain my licensing clearly? (10 Points)_\n",
    "Failure to cite a clear license will result in a zero for this section.  \n",
    "\n",
    "_Did I explain my conclusion clearly? (10 Points)_\n",
    "Is your conclusion clear and does it make sense? \n",
    "\n",
    "_Did I support my conclusion with data? (10 Points)_\n",
    "Do your results support your conclusion?  \n",
    "\n",
    "_Is the scope enough for a semesters work? (20 Points)_\n",
    "Is the scope is appropriate for the number of people in the group and it being a semester project?\n"
   ]
  },
  {
   "cell_type": "markdown",
   "metadata": {},
   "source": [
    "_Portfolio_  \n",
    "\n",
    "**Grading Rubric:**\n",
    "\n",
    "The following breakdown will be used for determining the score for the portfolio: \n",
    "\n",
    "| Assignment                                 | Points   |\n",
    "|--------------------------------------------|----------|\n",
    "| Did I explain my idea clearly?             |       10 |\n",
    "| Citations?                                 |       10 |\n",
    "| Can a NEU COE student run your code?       |       10 |\n",
    "| Did I explain my evaluation clearly?       |       10 |\n",
    "| Did I explain my code clearly?             |       10 |\n",
    "| Did I explain my licensing clearly?        |       10 |\n",
    "| Did I explain my conclusion clearly?       |       10 |\n",
    "| Did I support my conclusion with data?     |       10 |\n",
    "| Is the scope enough for a semesters work?  |       20 |\n",
    "\n",
    "\n",
    "**licensing**\n",
    "\n",
    "The MIT license [https://opensource.org/licenses/MIT](https://opensource.org/licenses/MIT) is suggested for the code.  \n",
    "\n",
    "The Creative Commons Attribution 3.0 License [https://creativecommons.org/licenses/by/3.0/us/](https://creativecommons.org/licenses/by/3.0/us/)  is suggested for the writing.   \n",
    "\n",
    "** Examples.**   \n",
    "\n",
    " Example portfolios will be put up at [https://github.com/nikbearbrown/](https://github.com/nikbearbrown/)  \n",
    "\n",
    "**The portfolio MUST be in a jupyter notebook.**     \n"
   ]
  },
  {
   "cell_type": "markdown",
   "metadata": {},
   "source": [
    "Last update April 1, 2018"
   ]
  }
 ],
 "metadata": {
  "kernelspec": {
   "display_name": "Python 3",
   "language": "python",
   "name": "python3"
  },
  "language_info": {
   "codemirror_mode": {
    "name": "ipython",
    "version": 3
   },
   "file_extension": ".py",
   "mimetype": "text/x-python",
   "name": "python",
   "nbconvert_exporter": "python",
   "pygments_lexer": "ipython3",
   "version": "3.6.5"
  }
 },
 "nbformat": 4,
 "nbformat_minor": 2
}
